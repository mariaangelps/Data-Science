{
 "cells": [
  {
   "cell_type": "code",
   "execution_count": 5,
   "id": "3ddef2e9-7146-4a54-a282-60e922a2f33e",
   "metadata": {},
   "outputs": [],
   "source": [
    "import pandas as pd\n",
    "import numpy as np\n",
    "import scipy.stats as stats\n",
    "from scipy.stats import norm"
   ]
  },
  {
   "cell_type": "code",
   "execution_count": 9,
   "id": "610cb3eb-3509-4c0e-b2b8-807b9fa1b757",
   "metadata": {},
   "outputs": [
    {
     "name": "stdout",
     "output_type": "stream",
     "text": [
      "10.0\n"
     ]
    }
   ],
   "source": [
    "mean= 40\n",
    "sd = 15\n",
    "n =100\n",
    "min_value = 38\n",
    "max_value = 44\n",
    "sqrt_mean = np.sqrt(n)\n"
   ]
  },
  {
   "cell_type": "code",
   "execution_count": 7,
   "id": "81f16647-ce9c-44c0-87b7-4062e92c026f",
   "metadata": {},
   "outputs": [
    {
     "name": "stdout",
     "output_type": "stream",
     "text": [
      "Min z score:  -1.3333333333333333\n",
      "Max z core:  2.6666666666666665\n"
     ]
    }
   ],
   "source": [
    "#getting z scores values\n",
    "z_min =  (min_value - mean) / (sd/sqrt_mean)\n",
    "z_max = (max_value - mean) / (sd/sqrt_mean)\n",
    "print(\"Min z score: \" , z_min)\n",
    "print(\"Max z core: \" , z_max)"
   ]
  },
  {
   "cell_type": "code",
   "execution_count": 8,
   "id": "309571b2-42ea-4f13-9bdb-35ce0c7c91b2",
   "metadata": {},
   "outputs": [
    {
     "name": "stdout",
     "output_type": "stream",
     "text": [
      "The final  probability that the sample mean is between 38 and 44 is 0.9049583997065423\n"
     ]
    }
   ],
   "source": [
    "#Probability of the z scores\n",
    "min_prob = norm.cdf(z_min)\n",
    "max_prob = norm.cdf(z_max)\n",
    "fin_prob = max_prob - min_prob\n",
    "print(\"The final  probability that the sample mean is between 38 and 44 is\" ,fin_prob)\n"
   ]
  },
  {
   "cell_type": "code",
   "execution_count": null,
   "id": "5a4a8c40-73b2-4bee-807e-bf071d64c435",
   "metadata": {},
   "outputs": [],
   "source": []
  },
  {
   "cell_type": "code",
   "execution_count": null,
   "id": "53b143b8-ee42-47a1-b158-74e4deeb118c",
   "metadata": {},
   "outputs": [],
   "source": []
  },
  {
   "cell_type": "code",
   "execution_count": null,
   "id": "5bd74230-6451-453b-8ad8-aad1a834863a",
   "metadata": {},
   "outputs": [],
   "source": []
  }
 ],
 "metadata": {
  "kernelspec": {
   "display_name": "Python 3 (ipykernel)",
   "language": "python",
   "name": "python3"
  },
  "language_info": {
   "codemirror_mode": {
    "name": "ipython",
    "version": 3
   },
   "file_extension": ".py",
   "mimetype": "text/x-python",
   "name": "python",
   "nbconvert_exporter": "python",
   "pygments_lexer": "ipython3",
   "version": "3.9.19"
  }
 },
 "nbformat": 4,
 "nbformat_minor": 5
}

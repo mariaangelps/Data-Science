{
 "cells": [
  {
   "cell_type": "markdown",
   "id": "92954fe3-cb80-4df3-8e04-c11add7f3bcf",
   "metadata": {},
   "source": [
    "## t-Test\n",
    "- Analyzes whether there is a significant difference between the mean values of two groups\n",
    "- Assumptions:\n",
    "    - Variables are metric\n",
    "    - Normal distribution\n",
    "    - Variances in groups must be approximately equal (independent samples t-Test)"
   ]
  },
  {
   "cell_type": "markdown",
   "id": "f9016571-2721-427d-b688-33489406213d",
   "metadata": {},
   "source": [
    "### t-Test in Python ###\n",
    "**ttest_ind** for independent samples <br />\n",
    "**ttest_rel** for related samples"
   ]
  },
  {
   "cell_type": "code",
   "execution_count": 2,
   "id": "da74a832-fb75-4dc4-abc1-1b7cb2de66ba",
   "metadata": {},
   "outputs": [],
   "source": [
    "import numpy as np\n",
    "import pandas as pd\n",
    "import matplotlib.pyplot as plt\n",
    "import scipy.stats as stats\n",
    "import seaborn as sns"
   ]
  },
  {
   "cell_type": "code",
   "execution_count": 3,
   "id": "bf189259-a317-4ef6-b4a9-3f7f8ecd64eb",
   "metadata": {},
   "outputs": [
    {
     "data": {
      "text/html": [
       "<div>\n",
       "<style scoped>\n",
       "    .dataframe tbody tr th:only-of-type {\n",
       "        vertical-align: middle;\n",
       "    }\n",
       "\n",
       "    .dataframe tbody tr th {\n",
       "        vertical-align: top;\n",
       "    }\n",
       "\n",
       "    .dataframe thead th {\n",
       "        text-align: right;\n",
       "    }\n",
       "</style>\n",
       "<table border=\"1\" class=\"dataframe\">\n",
       "  <thead>\n",
       "    <tr style=\"text-align: right;\">\n",
       "      <th></th>\n",
       "      <th>Gender</th>\n",
       "      <th>Response_time</th>\n",
       "    </tr>\n",
       "  </thead>\n",
       "  <tbody>\n",
       "    <tr>\n",
       "      <th>0</th>\n",
       "      <td>female</td>\n",
       "      <td>34</td>\n",
       "    </tr>\n",
       "    <tr>\n",
       "      <th>1</th>\n",
       "      <td>female</td>\n",
       "      <td>36</td>\n",
       "    </tr>\n",
       "    <tr>\n",
       "      <th>2</th>\n",
       "      <td>female</td>\n",
       "      <td>41</td>\n",
       "    </tr>\n",
       "    <tr>\n",
       "      <th>3</th>\n",
       "      <td>female</td>\n",
       "      <td>43</td>\n",
       "    </tr>\n",
       "    <tr>\n",
       "      <th>4</th>\n",
       "      <td>female</td>\n",
       "      <td>44</td>\n",
       "    </tr>\n",
       "    <tr>\n",
       "      <th>5</th>\n",
       "      <td>female</td>\n",
       "      <td>37</td>\n",
       "    </tr>\n",
       "    <tr>\n",
       "      <th>6</th>\n",
       "      <td>male</td>\n",
       "      <td>45</td>\n",
       "    </tr>\n",
       "    <tr>\n",
       "      <th>7</th>\n",
       "      <td>male</td>\n",
       "      <td>33</td>\n",
       "    </tr>\n",
       "    <tr>\n",
       "      <th>8</th>\n",
       "      <td>male</td>\n",
       "      <td>35</td>\n",
       "    </tr>\n",
       "    <tr>\n",
       "      <th>9</th>\n",
       "      <td>male</td>\n",
       "      <td>39</td>\n",
       "    </tr>\n",
       "    <tr>\n",
       "      <th>10</th>\n",
       "      <td>male</td>\n",
       "      <td>42</td>\n",
       "    </tr>\n",
       "  </tbody>\n",
       "</table>\n",
       "</div>"
      ],
      "text/plain": [
       "    Gender  Response_time\n",
       "0   female             34\n",
       "1   female             36\n",
       "2   female             41\n",
       "3   female             43\n",
       "4   female             44\n",
       "5   female             37\n",
       "6     male             45\n",
       "7     male             33\n",
       "8     male             35\n",
       "9     male             39\n",
       "10    male             42"
      ]
     },
     "execution_count": 3,
     "metadata": {},
     "output_type": "execute_result"
    }
   ],
   "source": [
    "df = pd.read_csv(\"data/Gender-ResponseTime.csv\")\n",
    "df"
   ]
  },
  {
   "cell_type": "markdown",
   "id": "72027721-059b-4950-8a9a-c79b415844e4",
   "metadata": {},
   "source": [
    "**Null Hypothesis ($ H_0 $):** The mean response times for males are not signficantly different than the mean response times for females <br/>\n",
    "**Alternative Hypothesis ($ H_1 $):** The mean response times for males are  signficantly different than the mean response times for females"
   ]
  },
  {
   "cell_type": "code",
   "execution_count": 4,
   "id": "24cf26a0-a3e5-4ce7-abfc-77e0086c8e6d",
   "metadata": {},
   "outputs": [],
   "source": [
    "group2 = df.where(df.Gender== 'male').dropna()['Response_time']"
   ]
  },
  {
   "cell_type": "code",
   "execution_count": 5,
   "id": "2609d04a-3417-4e0c-8e12-8a58fd466c0e",
   "metadata": {},
   "outputs": [],
   "source": [
    "group1 = df.where(df.Gender== 'female').dropna()['Response_time']"
   ]
  },
  {
   "cell_type": "code",
   "execution_count": 6,
   "id": "fa9359e5-9986-4ea9-836d-d3c85b55ba93",
   "metadata": {},
   "outputs": [
    {
     "data": {
      "text/plain": [
       "0    34.0\n",
       "1    36.0\n",
       "2    41.0\n",
       "3    43.0\n",
       "4    44.0\n",
       "5    37.0\n",
       "Name: Response_time, dtype: float64"
      ]
     },
     "execution_count": 6,
     "metadata": {},
     "output_type": "execute_result"
    }
   ],
   "source": [
    "group1"
   ]
  },
  {
   "cell_type": "code",
   "execution_count": 7,
   "id": "77727775-07c6-45c1-957b-73f8e28f65cb",
   "metadata": {},
   "outputs": [
    {
     "data": {
      "text/plain": [
       "6     45.0\n",
       "7     33.0\n",
       "8     35.0\n",
       "9     39.0\n",
       "10    42.0\n",
       "Name: Response_time, dtype: float64"
      ]
     },
     "execution_count": 7,
     "metadata": {},
     "output_type": "execute_result"
    }
   ],
   "source": [
    "group2"
   ]
  },
  {
   "cell_type": "code",
   "execution_count": 8,
   "id": "48e76b2f-f2e0-4ce3-8e5e-87aaf64e96e4",
   "metadata": {},
   "outputs": [
    {
     "data": {
      "text/plain": [
       "TtestResult(statistic=0.1355387591877689, pvalue=0.8951689966739832, df=9.0)"
      ]
     },
     "execution_count": 8,
     "metadata": {},
     "output_type": "execute_result"
    }
   ],
   "source": [
    "stats.ttest_ind(group1,group2)"
   ]
  },
  {
   "cell_type": "markdown",
   "id": "dd38b221-0f55-4e7a-a505-bb2e47093c83",
   "metadata": {},
   "source": [
    "**pvalue (0.895) > threshold (0.05)** <br />\n",
    "Cannot reject the null hypothesis\n"
   ]
  },
  {
   "cell_type": "markdown",
   "id": "1c128f1d-6695-478c-8763-9de74e18a5be",
   "metadata": {},
   "source": [
    "Let's adjust the response time values for one of the groups"
   ]
  },
  {
   "cell_type": "code",
   "execution_count": 18,
   "id": "ada03a35-f832-4d5a-b2fe-6fd605910d01",
   "metadata": {},
   "outputs": [],
   "source": [
    "f = lambda x: x - 10\n",
    "group2 = group2.apply(f)"
   ]
  },
  {
   "cell_type": "code",
   "execution_count": 19,
   "id": "2ee0de35-3c3f-4ca0-b1fd-4688bfbfc114",
   "metadata": {},
   "outputs": [
    {
     "data": {
      "text/plain": [
       "TtestResult(statistic=3.832050373399641, pvalue=0.0040150950653638435, df=9.0)"
      ]
     },
     "execution_count": 19,
     "metadata": {},
     "output_type": "execute_result"
    }
   ],
   "source": [
    "stats.ttest_ind(group1,group2)"
   ]
  },
  {
   "cell_type": "markdown",
   "id": "7ca90513-1353-4c8b-839d-76a1a50979df",
   "metadata": {},
   "source": [
    "**pvalue (0.004) < threshold (0.05)** <br />\n",
    "We reject the null hypothesis\n",
    "<br/>\n",
    "<br/>\n",
    "<br/>\n",
    "\n"
   ]
  },
  {
   "cell_type": "markdown",
   "id": "57da625f-da60-4e8c-aca9-66886d2572b9",
   "metadata": {},
   "source": [
    "## ANOVA\n",
    "- Analyzes whether there is a significant difference between the mean values of more than two groups\n",
    "- Assumptions:\n",
    "    - Variables are metric\n",
    "    - Normal distribution\n",
    "    - Variances in groups must be approximately equal (independent samples t-Test)"
   ]
  },
  {
   "cell_type": "code",
   "execution_count": 24,
   "id": "a58c9373-9360-432a-93c8-5136d3818cea",
   "metadata": {},
   "outputs": [
    {
     "data": {
      "text/html": [
       "<div>\n",
       "<style scoped>\n",
       "    .dataframe tbody tr th:only-of-type {\n",
       "        vertical-align: middle;\n",
       "    }\n",
       "\n",
       "    .dataframe tbody tr th {\n",
       "        vertical-align: top;\n",
       "    }\n",
       "\n",
       "    .dataframe thead th {\n",
       "        text-align: right;\n",
       "    }\n",
       "</style>\n",
       "<table border=\"1\" class=\"dataframe\">\n",
       "  <thead>\n",
       "    <tr style=\"text-align: right;\">\n",
       "      <th></th>\n",
       "      <th>BP</th>\n",
       "      <th>Drug</th>\n",
       "    </tr>\n",
       "  </thead>\n",
       "  <tbody>\n",
       "    <tr>\n",
       "      <th>0</th>\n",
       "      <td>128</td>\n",
       "      <td>Drug A</td>\n",
       "    </tr>\n",
       "    <tr>\n",
       "      <th>1</th>\n",
       "      <td>130</td>\n",
       "      <td>Drug A</td>\n",
       "    </tr>\n",
       "    <tr>\n",
       "      <th>2</th>\n",
       "      <td>132</td>\n",
       "      <td>Drug A</td>\n",
       "    </tr>\n",
       "    <tr>\n",
       "      <th>3</th>\n",
       "      <td>135</td>\n",
       "      <td>Drug A</td>\n",
       "    </tr>\n",
       "    <tr>\n",
       "      <th>4</th>\n",
       "      <td>129</td>\n",
       "      <td>Drug A</td>\n",
       "    </tr>\n",
       "    <tr>\n",
       "      <th>...</th>\n",
       "      <td>...</td>\n",
       "      <td>...</td>\n",
       "    </tr>\n",
       "    <tr>\n",
       "      <th>85</th>\n",
       "      <td>139</td>\n",
       "      <td>Drug C</td>\n",
       "    </tr>\n",
       "    <tr>\n",
       "      <th>86</th>\n",
       "      <td>141</td>\n",
       "      <td>Drug C</td>\n",
       "    </tr>\n",
       "    <tr>\n",
       "      <th>87</th>\n",
       "      <td>140</td>\n",
       "      <td>Drug C</td>\n",
       "    </tr>\n",
       "    <tr>\n",
       "      <th>88</th>\n",
       "      <td>138</td>\n",
       "      <td>Drug C</td>\n",
       "    </tr>\n",
       "    <tr>\n",
       "      <th>89</th>\n",
       "      <td>136</td>\n",
       "      <td>Drug C</td>\n",
       "    </tr>\n",
       "  </tbody>\n",
       "</table>\n",
       "<p>90 rows × 2 columns</p>\n",
       "</div>"
      ],
      "text/plain": [
       "     BP    Drug\n",
       "0   128  Drug A\n",
       "1   130  Drug A\n",
       "2   132  Drug A\n",
       "3   135  Drug A\n",
       "4   129  Drug A\n",
       "..  ...     ...\n",
       "85  139  Drug C\n",
       "86  141  Drug C\n",
       "87  140  Drug C\n",
       "88  138  Drug C\n",
       "89  136  Drug C\n",
       "\n",
       "[90 rows x 2 columns]"
      ]
     },
     "execution_count": 24,
     "metadata": {},
     "output_type": "execute_result"
    }
   ],
   "source": [
    "df = pd.read_csv(\"data/OneWayANOVA.csv\")\n",
    "df"
   ]
  },
  {
   "cell_type": "code",
   "execution_count": 25,
   "id": "5bcb77cb-9f67-464d-a72e-03c1bf66a26b",
   "metadata": {},
   "outputs": [
    {
     "data": {
      "text/plain": [
       "array(['Drug A', 'Drug B', 'Drug C'], dtype=object)"
      ]
     },
     "execution_count": 25,
     "metadata": {},
     "output_type": "execute_result"
    }
   ],
   "source": [
    "df.Drug.unique()"
   ]
  },
  {
   "cell_type": "markdown",
   "id": "e5501673-9246-4adb-a98c-d15674f04a17",
   "metadata": {},
   "source": [
    "**Null Hypothesis ($ H_0 $):** The are no differences between the means of the systolic blood pressures of the individual groups<br/>\n",
    "**Alternative Hypothesis ($ H_1 $):** At least two group means differ from each other in the population"
   ]
  },
  {
   "cell_type": "code",
   "execution_count": 26,
   "id": "7e22de62-fb27-487e-9ea2-67f129f70295",
   "metadata": {},
   "outputs": [
    {
     "data": {
      "text/plain": [
       "count     30.000000\n",
       "mean     133.266667\n",
       "std        2.887946\n",
       "min      128.000000\n",
       "25%      131.000000\n",
       "50%      133.000000\n",
       "75%      135.750000\n",
       "max      139.000000\n",
       "Name: BP, dtype: float64"
      ]
     },
     "execution_count": 26,
     "metadata": {},
     "output_type": "execute_result"
    }
   ],
   "source": [
    "groups = df.groupby(\"Drug\").groups\n",
    "group1 = df.BP[groups[\"Drug A\"]]\n",
    "group2 = df.BP[groups[\"Drug B\"]]\n",
    "group3 = df.BP[groups[\"Drug C\"]]\n",
    "group1.describe()"
   ]
  },
  {
   "cell_type": "code",
   "execution_count": 27,
   "id": "7e20f4cb-3eb9-4291-8105-c7d3784df36b",
   "metadata": {},
   "outputs": [
    {
     "data": {
      "text/plain": [
       "count     30.000000\n",
       "mean     139.033333\n",
       "std        3.986904\n",
       "min      131.000000\n",
       "25%      136.250000\n",
       "50%      139.000000\n",
       "75%      142.000000\n",
       "max      145.000000\n",
       "Name: BP, dtype: float64"
      ]
     },
     "execution_count": 27,
     "metadata": {},
     "output_type": "execute_result"
    }
   ],
   "source": [
    "group2.describe()"
   ]
  },
  {
   "cell_type": "code",
   "execution_count": 28,
   "id": "cc78baf3-c8ea-4350-a208-e39304849135",
   "metadata": {},
   "outputs": [
    {
     "data": {
      "text/plain": [
       "count     30.00000\n",
       "mean     137.00000\n",
       "std        3.73243\n",
       "min      130.00000\n",
       "25%      134.00000\n",
       "50%      137.00000\n",
       "75%      139.75000\n",
       "max      145.00000\n",
       "Name: BP, dtype: float64"
      ]
     },
     "execution_count": 28,
     "metadata": {},
     "output_type": "execute_result"
    }
   ],
   "source": [
    "group3.describe()"
   ]
  },
  {
   "cell_type": "code",
   "execution_count": 29,
   "id": "18d432c7-8bcf-4efc-b071-a0d56e92367b",
   "metadata": {},
   "outputs": [
    {
     "data": {
      "text/plain": [
       "F_onewayResult(statistic=20.172052401746733, pvalue=6.346112123576863e-08)"
      ]
     },
     "execution_count": 29,
     "metadata": {},
     "output_type": "execute_result"
    }
   ],
   "source": [
    "# Perform the ANOVA\n",
    "stats.f_oneway(group1,group2,group3)"
   ]
  },
  {
   "cell_type": "markdown",
   "id": "d21db663-b60d-404c-b951-00e3f4a56a1a",
   "metadata": {},
   "source": [
    "**Alternative ANOVA  using *statsmodels* library**"
   ]
  },
  {
   "cell_type": "code",
   "execution_count": 30,
   "id": "a7316fc5-de31-4123-b399-8f97dc9ec024",
   "metadata": {},
   "outputs": [
    {
     "name": "stdout",
     "output_type": "stream",
     "text": [
      "               sum_sq    df          F        PR(>F)\n",
      "Drug       513.266667   2.0  20.172052  6.346112e-08\n",
      "Residual  1106.833333  87.0        NaN           NaN\n"
     ]
    }
   ],
   "source": [
    "import statsmodels.api as sm\n",
    "from statsmodels.formula.api import ols\n",
    "\n",
    "model = ols('BP ~ Drug',                 # Model formula\n",
    "            data = df).fit()\n",
    "                \n",
    "anova_result = sm.stats.anova_lm(model, typ=2)\n",
    "print (anova_result)"
   ]
  },
  {
   "cell_type": "markdown",
   "id": "7a42b1cc-2ae3-4f13-8ec0-b62854fa4480",
   "metadata": {},
   "source": [
    "Both calculations show that **pvalue < threshold (0.05)** <br />\n",
    "We can reject the null hypothesis\n"
   ]
  },
  {
   "cell_type": "markdown",
   "id": "107645a1-5cc1-4aa6-9f8a-7e9fe27d1312",
   "metadata": {},
   "source": [
    "## $ Chi^2\\ Test $\n",
    "- A hypothesis test that is to determine if there is a relationship between **two categorical variables**.\n",
    "- Assumptions:\n",
    "    - The expected frequencies per cell are greater than 5\n",
    "    - Uses only the categories, not the rankings\n"
   ]
  },
  {
   "cell_type": "code",
   "execution_count": 31,
   "id": "fbdbd276-99dd-485a-88cf-379f63c51f0a",
   "metadata": {},
   "outputs": [
    {
     "data": {
      "text/html": [
       "<div>\n",
       "<style scoped>\n",
       "    .dataframe tbody tr th:only-of-type {\n",
       "        vertical-align: middle;\n",
       "    }\n",
       "\n",
       "    .dataframe tbody tr th {\n",
       "        vertical-align: top;\n",
       "    }\n",
       "\n",
       "    .dataframe thead th {\n",
       "        text-align: right;\n",
       "    }\n",
       "</style>\n",
       "<table border=\"1\" class=\"dataframe\">\n",
       "  <thead>\n",
       "    <tr style=\"text-align: right;\">\n",
       "      <th></th>\n",
       "      <th>Gender</th>\n",
       "      <th>Newspaper</th>\n",
       "    </tr>\n",
       "  </thead>\n",
       "  <tbody>\n",
       "    <tr>\n",
       "      <th>0</th>\n",
       "      <td>male</td>\n",
       "      <td>New York Post</td>\n",
       "    </tr>\n",
       "    <tr>\n",
       "      <th>1</th>\n",
       "      <td>male</td>\n",
       "      <td>New York Post</td>\n",
       "    </tr>\n",
       "    <tr>\n",
       "      <th>2</th>\n",
       "      <td>male</td>\n",
       "      <td>New York Post</td>\n",
       "    </tr>\n",
       "    <tr>\n",
       "      <th>3</th>\n",
       "      <td>male</td>\n",
       "      <td>New York Post</td>\n",
       "    </tr>\n",
       "    <tr>\n",
       "      <th>4</th>\n",
       "      <td>male</td>\n",
       "      <td>New York Post</td>\n",
       "    </tr>\n",
       "    <tr>\n",
       "      <th>...</th>\n",
       "      <td>...</td>\n",
       "      <td>...</td>\n",
       "    </tr>\n",
       "    <tr>\n",
       "      <th>87</th>\n",
       "      <td>female</td>\n",
       "      <td>WSJ</td>\n",
       "    </tr>\n",
       "    <tr>\n",
       "      <th>88</th>\n",
       "      <td>female</td>\n",
       "      <td>WSJ</td>\n",
       "    </tr>\n",
       "    <tr>\n",
       "      <th>89</th>\n",
       "      <td>female</td>\n",
       "      <td>WSJ</td>\n",
       "    </tr>\n",
       "    <tr>\n",
       "      <th>90</th>\n",
       "      <td>female</td>\n",
       "      <td>WSJ</td>\n",
       "    </tr>\n",
       "    <tr>\n",
       "      <th>91</th>\n",
       "      <td>female</td>\n",
       "      <td>WSJ</td>\n",
       "    </tr>\n",
       "  </tbody>\n",
       "</table>\n",
       "<p>92 rows × 2 columns</p>\n",
       "</div>"
      ],
      "text/plain": [
       "    Gender      Newspaper\n",
       "0     male  New York Post\n",
       "1     male  New York Post\n",
       "2     male  New York Post\n",
       "3     male  New York Post\n",
       "4     male  New York Post\n",
       "..     ...            ...\n",
       "87  female            WSJ\n",
       "88  female            WSJ\n",
       "89  female            WSJ\n",
       "90  female            WSJ\n",
       "91  female            WSJ\n",
       "\n",
       "[92 rows x 2 columns]"
      ]
     },
     "execution_count": 31,
     "metadata": {},
     "output_type": "execute_result"
    }
   ],
   "source": [
    "df = pd.read_csv(\"data/Gender-Newspaper.csv\")\n",
    "df"
   ]
  },
  {
   "cell_type": "markdown",
   "id": "24d69a3c-b10a-43c3-aa26-969e099d2a5a",
   "metadata": {},
   "source": [
    "**Null Hypothesis ($ H_0 $):** The is **no relationship** between gender and the preferred newspaper<br/>\n",
    "**Alternative Hypothesis ($ H_1 $):** There **is a relationship** between gender and the preferred newspaper<br/><br/>\n",
    "Use panda's *crosstab* method to create a contingency table"
   ]
  },
  {
   "cell_type": "code",
   "execution_count": 32,
   "id": "81a4a49b-1f99-4e91-b002-f8ce72494fdc",
   "metadata": {},
   "outputs": [
    {
     "data": {
      "text/html": [
       "<div>\n",
       "<style scoped>\n",
       "    .dataframe tbody tr th:only-of-type {\n",
       "        vertical-align: middle;\n",
       "    }\n",
       "\n",
       "    .dataframe tbody tr th {\n",
       "        vertical-align: top;\n",
       "    }\n",
       "\n",
       "    .dataframe thead th {\n",
       "        text-align: right;\n",
       "    }\n",
       "</style>\n",
       "<table border=\"1\" class=\"dataframe\">\n",
       "  <thead>\n",
       "    <tr style=\"text-align: right;\">\n",
       "      <th>Gender</th>\n",
       "      <th>female</th>\n",
       "      <th>male</th>\n",
       "    </tr>\n",
       "    <tr>\n",
       "      <th>Newspaper</th>\n",
       "      <th></th>\n",
       "      <th></th>\n",
       "    </tr>\n",
       "  </thead>\n",
       "  <tbody>\n",
       "    <tr>\n",
       "      <th>New York Post</th>\n",
       "      <td>6</td>\n",
       "      <td>7</td>\n",
       "    </tr>\n",
       "    <tr>\n",
       "      <th>New York Times</th>\n",
       "      <td>16</td>\n",
       "      <td>15</td>\n",
       "    </tr>\n",
       "    <tr>\n",
       "      <th>USA Today</th>\n",
       "      <td>13</td>\n",
       "      <td>16</td>\n",
       "    </tr>\n",
       "    <tr>\n",
       "      <th>WSJ</th>\n",
       "      <td>8</td>\n",
       "      <td>11</td>\n",
       "    </tr>\n",
       "  </tbody>\n",
       "</table>\n",
       "</div>"
      ],
      "text/plain": [
       "Gender          female  male\n",
       "Newspaper                   \n",
       "New York Post        6     7\n",
       "New York Times      16    15\n",
       "USA Today           13    16\n",
       "WSJ                  8    11"
      ]
     },
     "execution_count": 32,
     "metadata": {},
     "output_type": "execute_result"
    }
   ],
   "source": [
    "contingency = pd.crosstab(df.Newspaper, df.Gender)\n",
    "contingency"
   ]
  },
  {
   "cell_type": "code",
   "execution_count": 33,
   "id": "7bf9624a-ae54-4607-a579-b6546ccb3ee5",
   "metadata": {},
   "outputs": [
    {
     "name": "stdout",
     "output_type": "stream",
     "text": [
      "Chi statistic: 0.9180008113875626\n",
      "df: 3\n",
      "pvalue: 0.9180008113875626\n",
      "expected:\n",
      "[[ 6.07608696  6.92391304]\n",
      " [14.48913043 16.51086957]\n",
      " [13.55434783 15.44565217]\n",
      " [ 8.88043478 10.11956522]]\n"
     ]
    }
   ],
   "source": [
    "# Chi-square test of independence. \n",
    "from scipy.stats import chi2_contingency\n",
    "c, p, dof, expected = chi2_contingency(contingency) \n",
    "# Print the p-value\n",
    "print('Chi statistic: ' + str(p))\n",
    "print('df: ' + str(dof))\n",
    "print('pvalue: ' + str(p))\n",
    "print('expected:')\n",
    "print(expected)\n"
   ]
  },
  {
   "cell_type": "markdown",
   "id": "4ad5fd13-8d0b-4991-a04d-dbe198bc83ba",
   "metadata": {},
   "source": [
    "**expected** shows what the contingency table would look like if the 2 variables were perfectly independent <br/>\n",
    "**pvalue** is significantly greater than the threshhold and we cannot reject the null hypothesis<br/><br/>\n",
    "Let's adjust the response time values for one of the gender categories"
   ]
  },
  {
   "cell_type": "code",
   "execution_count": 34,
   "id": "52c2d459-8e0e-41ae-a610-1fc7db73aa36",
   "metadata": {},
   "outputs": [
    {
     "data": {
      "text/html": [
       "<div>\n",
       "<style scoped>\n",
       "    .dataframe tbody tr th:only-of-type {\n",
       "        vertical-align: middle;\n",
       "    }\n",
       "\n",
       "    .dataframe tbody tr th {\n",
       "        vertical-align: top;\n",
       "    }\n",
       "\n",
       "    .dataframe thead th {\n",
       "        text-align: right;\n",
       "    }\n",
       "</style>\n",
       "<table border=\"1\" class=\"dataframe\">\n",
       "  <thead>\n",
       "    <tr style=\"text-align: right;\">\n",
       "      <th>Gender</th>\n",
       "      <th>female</th>\n",
       "      <th>male</th>\n",
       "    </tr>\n",
       "    <tr>\n",
       "      <th>Newspaper</th>\n",
       "      <th></th>\n",
       "      <th></th>\n",
       "    </tr>\n",
       "  </thead>\n",
       "  <tbody>\n",
       "    <tr>\n",
       "      <th>New York Post</th>\n",
       "      <td>6</td>\n",
       "      <td>7</td>\n",
       "    </tr>\n",
       "    <tr>\n",
       "      <th>New York Times</th>\n",
       "      <td>36</td>\n",
       "      <td>15</td>\n",
       "    </tr>\n",
       "    <tr>\n",
       "      <th>USA Today</th>\n",
       "      <td>13</td>\n",
       "      <td>16</td>\n",
       "    </tr>\n",
       "    <tr>\n",
       "      <th>WSJ</th>\n",
       "      <td>28</td>\n",
       "      <td>11</td>\n",
       "    </tr>\n",
       "  </tbody>\n",
       "</table>\n",
       "</div>"
      ],
      "text/plain": [
       "Gender          female  male\n",
       "Newspaper                   \n",
       "New York Post        6     7\n",
       "New York Times      36    15\n",
       "USA Today           13    16\n",
       "WSJ                 28    11"
      ]
     },
     "execution_count": 34,
     "metadata": {},
     "output_type": "execute_result"
    }
   ],
   "source": [
    "for x in range(contingency.shape[0]):\n",
    "    if x % 2 == 1:\n",
    "        contingency.iloc[[x],[0]] = contingency.iloc[[x],[0]] + 20\n",
    "contingency"
   ]
  },
  {
   "cell_type": "code",
   "execution_count": 35,
   "id": "92b3597d-0cbd-42a0-9b5c-6cdc47eada2d",
   "metadata": {},
   "outputs": [
    {
     "name": "stdout",
     "output_type": "stream",
     "text": [
      "Chi statistic: 0.041429356361741464\n",
      "df: 3\n",
      "pvalue: 0.041429356361741464\n",
      "expected:\n",
      "[[ 8.17424242  4.82575758]\n",
      " [32.06818182 18.93181818]\n",
      " [18.23484848 10.76515152]\n",
      " [24.52272727 14.47727273]]\n"
     ]
    }
   ],
   "source": [
    "# Chi-square test of independence. \n",
    "from scipy.stats import chi2_contingency\n",
    "c, p, dof, expected = chi2_contingency(contingency) \n",
    "# Print the p-value\n",
    "print('Chi statistic: ' + str(p))\n",
    "print('df: ' + str(dof))\n",
    "print('pvalue: ' + str(p))\n",
    "print('expected:')\n",
    "print(expected)\n"
   ]
  },
  {
   "cell_type": "markdown",
   "id": "fa807ed6-0877-4dd3-a1f7-8616fae3d60a",
   "metadata": {},
   "source": [
    "**pvalue (0.04) < threshold (0.05)** <br />\n",
    "We reject the null hypothesis\n",
    "<br/>\n",
    "<br/>\n",
    "<br/>\n"
   ]
  },
  {
   "cell_type": "markdown",
   "id": "6879b853-5e96-4320-b35f-69b724a0d2e2",
   "metadata": {},
   "source": [
    "## Correlation Analysis\n",
    "- Measure the relationship between two variables<br/>\n",
    "#### Pearson Correlation (r)\n",
    "- Measures the **linear** relationship between two variables\n"
   ]
  },
  {
   "cell_type": "code",
   "execution_count": 37,
   "id": "c4d7abb7-b5c2-4c3a-a191-228052e8864c",
   "metadata": {},
   "outputs": [
    {
     "data": {
      "text/html": [
       "<div>\n",
       "<style scoped>\n",
       "    .dataframe tbody tr th:only-of-type {\n",
       "        vertical-align: middle;\n",
       "    }\n",
       "\n",
       "    .dataframe tbody tr th {\n",
       "        vertical-align: top;\n",
       "    }\n",
       "\n",
       "    .dataframe thead th {\n",
       "        text-align: right;\n",
       "    }\n",
       "</style>\n",
       "<table border=\"1\" class=\"dataframe\">\n",
       "  <thead>\n",
       "    <tr style=\"text-align: right;\">\n",
       "      <th></th>\n",
       "      <th>Before_Intervention</th>\n",
       "      <th>After_Intervention</th>\n",
       "    </tr>\n",
       "  </thead>\n",
       "  <tbody>\n",
       "    <tr>\n",
       "      <th>0</th>\n",
       "      <td>18</td>\n",
       "      <td>25</td>\n",
       "    </tr>\n",
       "    <tr>\n",
       "      <th>1</th>\n",
       "      <td>22</td>\n",
       "      <td>27</td>\n",
       "    </tr>\n",
       "    <tr>\n",
       "      <th>2</th>\n",
       "      <td>20</td>\n",
       "      <td>20</td>\n",
       "    </tr>\n",
       "    <tr>\n",
       "      <th>3</th>\n",
       "      <td>25</td>\n",
       "      <td>29</td>\n",
       "    </tr>\n",
       "    <tr>\n",
       "      <th>4</th>\n",
       "      <td>21</td>\n",
       "      <td>26</td>\n",
       "    </tr>\n",
       "    <tr>\n",
       "      <th>5</th>\n",
       "      <td>24</td>\n",
       "      <td>24</td>\n",
       "    </tr>\n",
       "    <tr>\n",
       "      <th>6</th>\n",
       "      <td>19</td>\n",
       "      <td>22</td>\n",
       "    </tr>\n",
       "    <tr>\n",
       "      <th>7</th>\n",
       "      <td>23</td>\n",
       "      <td>28</td>\n",
       "    </tr>\n",
       "    <tr>\n",
       "      <th>8</th>\n",
       "      <td>22</td>\n",
       "      <td>24</td>\n",
       "    </tr>\n",
       "    <tr>\n",
       "      <th>9</th>\n",
       "      <td>20</td>\n",
       "      <td>23</td>\n",
       "    </tr>\n",
       "    <tr>\n",
       "      <th>10</th>\n",
       "      <td>23</td>\n",
       "      <td>26</td>\n",
       "    </tr>\n",
       "    <tr>\n",
       "      <th>11</th>\n",
       "      <td>24</td>\n",
       "      <td>28</td>\n",
       "    </tr>\n",
       "    <tr>\n",
       "      <th>12</th>\n",
       "      <td>22</td>\n",
       "      <td>21</td>\n",
       "    </tr>\n",
       "    <tr>\n",
       "      <th>13</th>\n",
       "      <td>21</td>\n",
       "      <td>27</td>\n",
       "    </tr>\n",
       "    <tr>\n",
       "      <th>14</th>\n",
       "      <td>26</td>\n",
       "      <td>30</td>\n",
       "    </tr>\n",
       "    <tr>\n",
       "      <th>15</th>\n",
       "      <td>24</td>\n",
       "      <td>26</td>\n",
       "    </tr>\n",
       "    <tr>\n",
       "      <th>16</th>\n",
       "      <td>19</td>\n",
       "      <td>20</td>\n",
       "    </tr>\n",
       "    <tr>\n",
       "      <th>17</th>\n",
       "      <td>20</td>\n",
       "      <td>22</td>\n",
       "    </tr>\n",
       "    <tr>\n",
       "      <th>18</th>\n",
       "      <td>23</td>\n",
       "      <td>25</td>\n",
       "    </tr>\n",
       "    <tr>\n",
       "      <th>19</th>\n",
       "      <td>21</td>\n",
       "      <td>23</td>\n",
       "    </tr>\n",
       "  </tbody>\n",
       "</table>\n",
       "</div>"
      ],
      "text/plain": [
       "    Before_Intervention  After_Intervention\n",
       "0                    18                  25\n",
       "1                    22                  27\n",
       "2                    20                  20\n",
       "3                    25                  29\n",
       "4                    21                  26\n",
       "5                    24                  24\n",
       "6                    19                  22\n",
       "7                    23                  28\n",
       "8                    22                  24\n",
       "9                    20                  23\n",
       "10                   23                  26\n",
       "11                   24                  28\n",
       "12                   22                  21\n",
       "13                   21                  27\n",
       "14                   26                  30\n",
       "15                   24                  26\n",
       "16                   19                  20\n",
       "17                   20                  22\n",
       "18                   23                  25\n",
       "19                   21                  23"
      ]
     },
     "execution_count": 37,
     "metadata": {},
     "output_type": "execute_result"
    }
   ],
   "source": [
    "df = pd.read_csv(\"data/ReactionTime.csv\")\n",
    "df"
   ]
  },
  {
   "cell_type": "markdown",
   "id": "ac80ea7a-56a5-40ef-80b1-f5ee95d667d3",
   "metadata": {},
   "source": [
    "**Null Hypothesis ($ H_0 $):** The correlation coefficient does not differ significantly from zero - no linear relationship<br/>\n",
    "**Alternative Hypothesis ($ H_1 $):** The correlation coefficient differs significantly from zero - there is a linear relationship<br/><br/>\n"
   ]
  },
  {
   "cell_type": "code",
   "execution_count": 38,
   "id": "69aff311-5571-411b-a69b-d630bcfa2c0f",
   "metadata": {},
   "outputs": [
    {
     "data": {
      "text/html": [
       "<style>.container { width:100% !important; }</style>"
      ],
      "text/plain": [
       "<IPython.core.display.HTML object>"
      ]
     },
     "metadata": {},
     "output_type": "display_data"
    }
   ],
   "source": [
    "from IPython.display import display, HTML\n",
    "display(HTML(\"<style>.container { width:100% !important; }</style>\"))\n",
    "corr = df.corr(method='pearson')"
   ]
  },
  {
   "cell_type": "code",
   "execution_count": 39,
   "id": "4ed322df-3776-44fc-9413-9f719af8a156",
   "metadata": {},
   "outputs": [
    {
     "data": {
      "text/html": [
       "<div>\n",
       "<style scoped>\n",
       "    .dataframe tbody tr th:only-of-type {\n",
       "        vertical-align: middle;\n",
       "    }\n",
       "\n",
       "    .dataframe tbody tr th {\n",
       "        vertical-align: top;\n",
       "    }\n",
       "\n",
       "    .dataframe thead th {\n",
       "        text-align: right;\n",
       "    }\n",
       "</style>\n",
       "<table border=\"1\" class=\"dataframe\">\n",
       "  <thead>\n",
       "    <tr style=\"text-align: right;\">\n",
       "      <th></th>\n",
       "      <th>Before_Intervention</th>\n",
       "      <th>After_Intervention</th>\n",
       "    </tr>\n",
       "  </thead>\n",
       "  <tbody>\n",
       "    <tr>\n",
       "      <th>Before_Intervention</th>\n",
       "      <td>1.000000</td>\n",
       "      <td>0.702082</td>\n",
       "    </tr>\n",
       "    <tr>\n",
       "      <th>After_Intervention</th>\n",
       "      <td>0.702082</td>\n",
       "      <td>1.000000</td>\n",
       "    </tr>\n",
       "  </tbody>\n",
       "</table>\n",
       "</div>"
      ],
      "text/plain": [
       "                     Before_Intervention  After_Intervention\n",
       "Before_Intervention             1.000000            0.702082\n",
       "After_Intervention              0.702082            1.000000"
      ]
     },
     "execution_count": 39,
     "metadata": {},
     "output_type": "execute_result"
    }
   ],
   "source": [
    "corr"
   ]
  },
  {
   "cell_type": "code",
   "execution_count": 40,
   "id": "079822ee-2f5b-487a-be03-8e41ec540372",
   "metadata": {},
   "outputs": [
    {
     "data": {
      "text/plain": [
       "PearsonRResult(statistic=0.7020824008072544, pvalue=0.0005589586050621636)"
      ]
     },
     "execution_count": 40,
     "metadata": {},
     "output_type": "execute_result"
    }
   ],
   "source": [
    "stats.pearsonr(df.Before_Intervention, df.After_Intervention)"
   ]
  },
  {
   "cell_type": "markdown",
   "id": "1f417885-e332-4e3f-9a35-8db7d0a4b426",
   "metadata": {},
   "source": [
    "#### Accept or reject the null hypothesis?<br/><br/>"
   ]
  },
  {
   "cell_type": "markdown",
   "id": "f312afee-dd3a-461c-a069-9b5ac264f4fe",
   "metadata": {},
   "source": [
    "Spearman Correlation (r)\n",
    "\n",
    "- Used when the two variables are **not** linearly related<br/>\n",
    "- Desribes how well the variables' relationship can be described using a monotonic function - a Pearson correlation between the **ranked** variables\n",
    "- Performs a Spearman correlation on the variable ranks"
   ]
  },
  {
   "cell_type": "code",
   "execution_count": 41,
   "id": "6c30fae9-bad7-41d3-8cb8-2ecaa92ee08c",
   "metadata": {},
   "outputs": [
    {
     "data": {
      "text/html": [
       "<div>\n",
       "<style scoped>\n",
       "    .dataframe tbody tr th:only-of-type {\n",
       "        vertical-align: middle;\n",
       "    }\n",
       "\n",
       "    .dataframe tbody tr th {\n",
       "        vertical-align: top;\n",
       "    }\n",
       "\n",
       "    .dataframe thead th {\n",
       "        text-align: right;\n",
       "    }\n",
       "</style>\n",
       "<table border=\"1\" class=\"dataframe\">\n",
       "  <thead>\n",
       "    <tr style=\"text-align: right;\">\n",
       "      <th></th>\n",
       "      <th>Reaction_time</th>\n",
       "      <th>Age</th>\n",
       "      <th>Ranks_reaction_time</th>\n",
       "      <th>Ranks_age</th>\n",
       "    </tr>\n",
       "  </thead>\n",
       "  <tbody>\n",
       "    <tr>\n",
       "      <th>0</th>\n",
       "      <td>12</td>\n",
       "      <td>13</td>\n",
       "      <td>1</td>\n",
       "      <td>1</td>\n",
       "    </tr>\n",
       "    <tr>\n",
       "      <th>1</th>\n",
       "      <td>15</td>\n",
       "      <td>25</td>\n",
       "      <td>2</td>\n",
       "      <td>3</td>\n",
       "    </tr>\n",
       "    <tr>\n",
       "      <th>2</th>\n",
       "      <td>17</td>\n",
       "      <td>20</td>\n",
       "      <td>3</td>\n",
       "      <td>2</td>\n",
       "    </tr>\n",
       "    <tr>\n",
       "      <th>3</th>\n",
       "      <td>18</td>\n",
       "      <td>35</td>\n",
       "      <td>4</td>\n",
       "      <td>5</td>\n",
       "    </tr>\n",
       "    <tr>\n",
       "      <th>4</th>\n",
       "      <td>20</td>\n",
       "      <td>45</td>\n",
       "      <td>5</td>\n",
       "      <td>6</td>\n",
       "    </tr>\n",
       "    <tr>\n",
       "      <th>5</th>\n",
       "      <td>21</td>\n",
       "      <td>30</td>\n",
       "      <td>6</td>\n",
       "      <td>4</td>\n",
       "    </tr>\n",
       "    <tr>\n",
       "      <th>6</th>\n",
       "      <td>22</td>\n",
       "      <td>60</td>\n",
       "      <td>7</td>\n",
       "      <td>7</td>\n",
       "    </tr>\n",
       "    <tr>\n",
       "      <th>7</th>\n",
       "      <td>26</td>\n",
       "      <td>95</td>\n",
       "      <td>8</td>\n",
       "      <td>8</td>\n",
       "    </tr>\n",
       "  </tbody>\n",
       "</table>\n",
       "</div>"
      ],
      "text/plain": [
       "   Reaction_time  Age  Ranks_reaction_time  Ranks_age\n",
       "0             12   13                    1          1\n",
       "1             15   25                    2          3\n",
       "2             17   20                    3          2\n",
       "3             18   35                    4          5\n",
       "4             20   45                    5          6\n",
       "5             21   30                    6          4\n",
       "6             22   60                    7          7\n",
       "7             26   95                    8          8"
      ]
     },
     "execution_count": 41,
     "metadata": {},
     "output_type": "execute_result"
    }
   ],
   "source": [
    "df = pd.read_csv(\"data/Reaction-Age-Spearman.csv\")\n",
    "df"
   ]
  },
  {
   "cell_type": "code",
   "execution_count": 42,
   "id": "60d0844d-f3c8-40c5-b5e1-273cb56ca4ba",
   "metadata": {},
   "outputs": [
    {
     "data": {
      "text/plain": [
       "Text(0.5, 1.0, 'Reaction Time vs. Subject Age')"
      ]
     },
     "execution_count": 42,
     "metadata": {},
     "output_type": "execute_result"
    },
    {
     "data": {
      "image/png": "[encoded data removed]",
      "text/plain": [
       "<Figure size 640x480 with 1 Axes>"
      ]
     },
     "metadata": {},
     "output_type": "display_data"
    }
   ],
   "source": [
    "# Create a scatterplot\n",
    "plt.scatter(df['Reaction_time'], df['Age'])\n",
    "# Create label for x-axis\n",
    "plt.xlabel('Reaction Time')\n",
    "# Create label for y-axis\n",
    "plt.ylabel('Age')\n",
    "# Create title\n",
    "plt.title('Reaction Time vs. Subject Age')"
   ]
  },
  {
   "cell_type": "code",
   "execution_count": 43,
   "id": "1c438cea",
   "metadata": {},
   "outputs": [
    {
     "data": {
      "text/plain": [
       "Text(0.5, 1.0, 'Ranked Reaction Time vs. RankedSubject Age')"
      ]
     },
     "execution_count": 43,
     "metadata": {},
     "output_type": "execute_result"
    },
    {
     "data": {
      "image/png": "[encoded data removed]",
      "text/plain": [
       "<Figure size 640x480 with 1 Axes>"
      ]
     },
     "metadata": {},
     "output_type": "display_data"
    }
   ],
   "source": [
    "# Create a scatterplot\n",
    "plt.scatter(df['Ranks_reaction_time'], df['Ranks_age'])\n",
    "# Create label for x-axis\n",
    "plt.xlabel('Reaction Time Rank')\n",
    "# Create label for y-axis\n",
    "plt.ylabel('Age Rank')\n",
    "# Create title\n",
    "plt.title('Ranked Reaction Time vs. RankedSubject Age')"
   ]
  },
  {
   "cell_type": "code",
   "execution_count": 44,
   "id": "83ce1d36-3957-4049-92ca-4234a67bc996",
   "metadata": {},
   "outputs": [
    {
     "data": {
      "text/plain": [
       "PearsonRResult(statistic=0.9047619047619044, pvalue=0.002008275505429489)"
      ]
     },
     "execution_count": 44,
     "metadata": {},
     "output_type": "execute_result"
    }
   ],
   "source": [
    "stats.pearsonr(df.Ranks_reaction_time, df.Ranks_age)"
   ]
  },
  {
   "cell_type": "code",
   "execution_count": null,
   "id": "e660eb92-7c07-43ff-b5ec-13bcb8cfab39",
   "metadata": {},
   "outputs": [],
   "source": []
  },
  {
   "cell_type": "code",
   "execution_count": null,
   "id": "76d8c510-de30-4b41-8107-65a80aed87fd",
   "metadata": {},
   "outputs": [],
   "source": []
  },
  {
   "cell_type": "code",
   "execution_count": null,
   "id": "0250e83a-a45c-4b14-ae55-cdf5c9ac8af3",
   "metadata": {},
   "outputs": [],
   "source": []
  },
  {
   "cell_type": "code",
   "execution_count": null,
   "id": "7b913571-0bec-4364-a8fe-495d38dba43d",
   "metadata": {},
   "outputs": [],
   "source": []
  },
  {
   "cell_type": "code",
   "execution_count": null,
   "id": "d37c552c-f3bd-4bb1-b675-a93e27d2d4db",
   "metadata": {},
   "outputs": [],
   "source": []
  },
  {
   "cell_type": "code",
   "execution_count": null,
   "id": "ebcb33fd-e320-48ee-8dea-9f51bdf7ea4c",
   "metadata": {},
   "outputs": [],
   "source": []
  },
  {
   "cell_type": "code",
   "execution_count": null,
   "id": "57c591f0-3110-47bc-b954-86fd5121af29",
   "metadata": {},
   "outputs": [],
   "source": []
  },
  {
   "cell_type": "code",
   "execution_count": null,
   "id": "12e1f19e-c40a-4468-9891-a1f54b0362c5",
   "metadata": {},
   "outputs": [],
   "source": []
  }
 ],
 "metadata": {
  "kernelspec": {
   "display_name": "Python 3 (ipykernel)",
   "language": "python",
   "name": "python3"
  },
  "language_info": {
   "codemirror_mode": {
    "name": "ipython",
    "version": 3
   },
   "file_extension": ".py",
   "mimetype": "text/x-python",
   "name": "python",
   "nbconvert_exporter": "python",
   "pygments_lexer": "ipython3",
   "version": "3.9.19"
  }
 },
 "nbformat": 4,
 "nbformat_minor": 5
}

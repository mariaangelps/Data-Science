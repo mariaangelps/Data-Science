{
 "cells": [
  {
   "cell_type": "markdown",
   "id": "3b0ed77a",
   "metadata": {},
   "source": [
    "### Load up selenium and the Chrome webdriver"
   ]
  },
  {
   "cell_type": "code",
   "execution_count": 4,
   "id": "b6ee6694-2e20-481c-be91-3fad4297a99c",
   "metadata": {},
   "outputs": [
    {
     "ename": "ModuleNotFoundError",
     "evalue": "No module named 'selenium'",
     "output_type": "error",
     "traceback": [
      "\u001b[0;31m---------------------------------------------------------------------------\u001b[0m",
      "\u001b[0;31mModuleNotFoundError\u001b[0m                       Traceback (most recent call last)",
      "Cell \u001b[0;32mIn[4], line 1\u001b[0m\n\u001b[0;32m----> 1\u001b[0m \u001b[38;5;28;01mimport\u001b[39;00m \u001b[38;5;21;01mselenium\u001b[39;00m\n\u001b[1;32m      2\u001b[0m \u001b[38;5;28;01mfrom\u001b[39;00m \u001b[38;5;21;01mselenium\u001b[39;00m \u001b[38;5;28;01mimport\u001b[39;00m webdriver\n\u001b[1;32m      3\u001b[0m \u001b[38;5;28;01mfrom\u001b[39;00m \u001b[38;5;21;01mselenium\u001b[39;00m\u001b[38;5;21;01m.\u001b[39;00m\u001b[38;5;21;01mcommon\u001b[39;00m \u001b[38;5;28;01mimport\u001b[39;00m NoSuchElementException, ElementNotInteractableException\n",
      "\u001b[0;31mModuleNotFoundError\u001b[0m: No module named 'selenium'"
     ]
    }
   ],
   "source": [
    "import selenium\n",
    "from selenium import webdriver\n",
    "from selenium.common import NoSuchElementException, ElementNotInteractableException\n",
    "from selenium.webdriver.common.by import By\n",
    "from selenium.webdriver.support.wait import WebDriverWait\n",
    "from selenium.webdriver.support import expected_conditions as EC\n",
    "import pandas as pd\n",
    "import time"
   ]
  },
  {
   "cell_type": "code",
   "execution_count": null,
   "id": "77360ec2",
   "metadata": {},
   "outputs": [],
   "source": [
    "driver = webdriver.Chrome()"
   ]
  },
  {
   "cell_type": "code",
   "execution_count": null,
   "id": "431bdb13",
   "metadata": {},
   "outputs": [],
   "source": [
    "driver.get('https://generalssb-prod.ec.njit.edu/BannerExtensibility/customPage/page/stuRegCrseSched')"
   ]
  },
  {
   "cell_type": "markdown",
   "id": "5d4cfd5e",
   "metadata": {},
   "source": [
    "### In the left navigation, find the 16th entry (\"CS\") and click on it\n",
    "\n",
    "#### This will cause the main content area to load all of the CS courses"
   ]
  },
  {
   "cell_type": "code",
   "execution_count": null,
   "id": "fce682c0",
   "metadata": {},
   "outputs": [],
   "source": [
    "driver.implicitly_wait(5)\n",
    "left_link = driver.find_element(By.ID, 'pbid-subjListTableSubjectLink-16')"
   ]
  },
  {
   "cell_type": "code",
   "execution_count": null,
   "id": "0842f852",
   "metadata": {},
   "outputs": [],
   "source": [
    "cs_link = left_link.find_element(by=By.TAG_NAME, value='a')\n",
    "cs_link.click()"
   ]
  },
  {
   "cell_type": "code",
   "execution_count": null,
   "id": "d79dc8ad",
   "metadata": {},
   "outputs": [],
   "source": [
    "my_span = driver.find_element(by=By.ID, value='pbid-courseListSectionDetailSections-0')"
   ]
  },
  {
   "cell_type": "code",
   "execution_count": null,
   "id": "899f45ba",
   "metadata": {},
   "outputs": [],
   "source": [
    "print(my_span)"
   ]
  },
  {
   "cell_type": "code",
   "execution_count": null,
   "id": "e3cf027f",
   "metadata": {},
   "outputs": [],
   "source": [
    "course_headers = my_span.find_elements(by=By.TAG_NAME, value=\"H4\")"
   ]
  },
  {
   "cell_type": "code",
   "execution_count": null,
   "id": "60fbbdb8",
   "metadata": {},
   "outputs": [],
   "source": [
    "course_tables = my_span.find_elements(by=By.TAG_NAME, value=\"table\")"
   ]
  },
  {
   "cell_type": "code",
   "execution_count": null,
   "id": "eb00d89e",
   "metadata": {},
   "outputs": [],
   "source": [
    "print(\"I have {} headers and {} tables\".format(len(course_headers), len(course_tables)))"
   ]
  },
  {
   "cell_type": "code",
   "execution_count": null,
   "id": "72832dd9",
   "metadata": {},
   "outputs": [],
   "source": [
    "def create_column_headings(table_headers):\n",
    "    loc_columns = ['Course_name']\n",
    "    for i in range(len(table_headers)):\n",
    "        loc_columns.append(table_headers[i].text)\n",
    "    return loc_columns"
   ]
  },
  {
   "cell_type": "code",
   "execution_count": null,
   "id": "7d4c5d25",
   "metadata": {},
   "outputs": [],
   "source": [
    "def create_course_listings(c_headers, c_tables):\n",
    "    c_list = []\n",
    "    for i in range(len(c_headers)):\n",
    "        course_name = c_headers[i].text\n",
    "#       collect the rows for each section of the course\n",
    "        t_rows = c_tables[i].find_elements(by=By.CLASS_NAME, value='success')\n",
    "#       for each row, get all of the cells\n",
    "        for k in range(len(t_rows)):\n",
    "            course_row = []\n",
    "            course_row.append(course_name)\n",
    "            t_cells = t_rows[k].find_elements(by=By.TAG_NAME, value='td')\n",
    "            for l in range(len(t_cells)):\n",
    "                course_row.append(t_cells[l].text)\n",
    "            c_list.append(course_row)\n",
    "    return c_list\n"
   ]
  },
  {
   "cell_type": "code",
   "execution_count": null,
   "id": "df1fd02f",
   "metadata": {},
   "outputs": [],
   "source": [
    "# create column headings by using the 'th' cells of the first table\n",
    "t_headers = course_tables[0].find_elements(by=By.TAG_NAME, value=\"th\")\n",
    "columns = create_column_headings(t_headers)"
   ]
  },
  {
   "cell_type": "code",
   "execution_count": null,
   "id": "6cdf0aaa",
   "metadata": {},
   "outputs": [],
   "source": [
    "# use the list of course_headers and the list of course_tables to build\n",
    "#   individual rows - one for each course/section\n",
    "course_list = create_course_listings(course_headers, course_tables)\n",
    "df = pd.DataFrame(course_list, columns=columns)\n",
    "driver.quit()"
   ]
  },
  {
   "cell_type": "code",
   "execution_count": null,
   "id": "5e09f584",
   "metadata": {},
   "outputs": [],
   "source": [
    "df"
   ]
  },
  {
   "cell_type": "code",
   "execution_count": null,
   "id": "c1c356eb",
   "metadata": {},
   "outputs": [],
   "source": [
    "df.describe()"
   ]
  },
  {
   "cell_type": "code",
   "execution_count": null,
   "id": "0945a2e6",
   "metadata": {},
   "outputs": [],
   "source": [
    "df['Max'] = df['Max'].astype(int)\n",
    "df['Now'] = df['Now'].astype(int)"
   ]
  },
  {
   "cell_type": "code",
   "execution_count": null,
   "id": "ed0bad79",
   "metadata": {},
   "outputs": [],
   "source": [
    "df['Open'] = df['Max'] - df['Now']"
   ]
  },
  {
   "cell_type": "code",
   "execution_count": null,
   "id": "fe3e75bc",
   "metadata": {},
   "outputs": [],
   "source": [
    "### potential rows to delete\n",
    "        # skip Independent Study, Master's Project, Master's Thesis \n",
    "#        if course_name.startswith(\"CS 488\") or course_name.startswith(\"CS 700B\") \\\n",
    "#        or course_name.startswith(\"CS 701B\") or course_name.startswith(\"CS 725\") \\\n",
    "#        or course_name.startswith(\"CS 792\") or course_name.startswith(\"CS 726\") \\\n",
    "#        or course_name.startswith(\"CS 790A\"):"
   ]
  },
  {
   "cell_type": "code",
   "execution_count": null,
   "id": "4cd7ae21",
   "metadata": {},
   "outputs": [],
   "source": [
    "df = df[~df['Course_name'].str.contains('CS 488')]\n",
    "df = df[~df['Course_name'].str.contains('CS 700B')]\n",
    "df = df[~df['Course_name'].str.contains('CS 701B')]\n",
    "df = df[~df['Course_name'].str.contains('CS 725')]\n",
    "df = df[~df['Course_name'].str.contains('CS 792')]\n",
    "df = df[~df['Course_name'].str.contains('CS 790A')]\n",
    "df = df[~df['Course_name'].str.contains('CS 726')]\n",
    "\n",
    "df"
   ]
  },
  {
   "cell_type": "code",
   "execution_count": null,
   "id": "ec2d0c24",
   "metadata": {
    "scrolled": true
   },
   "outputs": [],
   "source": [
    "df[['Instructor', 'Max', 'Now']][200:250]"
   ]
  },
  {
   "cell_type": "code",
   "execution_count": null,
   "id": "f6f1d1c2",
   "metadata": {},
   "outputs": [],
   "source": [
    "df[['Instructor','Open']].groupby(['Instructor']).sum().tail(50)\n"
   ]
  },
  {
   "cell_type": "code",
   "execution_count": null,
   "id": "920e82d6",
   "metadata": {},
   "outputs": [],
   "source": [
    "df['Course_name'].unique()"
   ]
  },
  {
   "cell_type": "code",
   "execution_count": null,
   "id": "db58a807",
   "metadata": {},
   "outputs": [],
   "source": []
  }
 ],
 "metadata": {
  "kernelspec": {
   "display_name": "Python 3 (ipykernel)",
   "language": "python",
   "name": "python3"
  },
  "language_info": {
   "codemirror_mode": {
    "name": "ipython",
    "version": 3
   },
   "file_extension": ".py",
   "mimetype": "text/x-python",
   "name": "python",
   "nbconvert_exporter": "python",
   "pygments_lexer": "ipython3",
   "version": "3.9.19"
  }
 },
 "nbformat": 4,
 "nbformat_minor": 5
}

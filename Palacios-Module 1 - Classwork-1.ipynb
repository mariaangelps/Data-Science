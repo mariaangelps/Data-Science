{
 "cells": [
  {
   "cell_type": "markdown",
   "id": "18d924c7",
   "metadata": {},
   "source": [
    "## Lab exercise for today\n",
    "\n",
    "#### Write a function squareRoot(x) to compute the square root of the positive number by newton-raphson method.  \n",
    "\n",
    "$\\boldsymbol{x_{n+1} = x_n - \\frac{f(x)}{f`(x)}}$    \n",
    "\n",
    "### Newton's Method for Finding the Square Root of a number<br/> $$x\\ =\\ \\sqrt{a}$$\n",
    "$ \\boldsymbol{f(x)\\ =\\ x^2-a\\ =\\ 0}$  \n",
    "$\\boldsymbol{x_{n+1}\\ =\\ x_n\\ -\\ \\frac{f(x_n)}{f^{\\prime}}(x_n)}\\ =\\ x_n-\\frac{x_n^2-a}{2x_n} $  \n",
    "\n",
    "#### Example: $a = 5, initial\\ estimate\\ x_0 = 2$  \n",
    "$\\boldsymbol{\n",
    "\\begin{aligned}\n",
    "x_1\\ &=\\ 2.25 \\\\ \n",
    "x_2\\ &=\\ 2.236111111111111 \\\\\n",
    "x_3\\ &=\\ 2.236067977915804  \\\\\n",
    "x_4\\ &=\\ 2.23606797749979\n",
    "\\end{aligned}\n",
    "}$\n",
    "\n",
    "https://www.quora.com/What-is-the-Newton-Rapson-method-for-finding-a-square-root-of-an-integer-number-How-does-one-use-it\n"
   ]
  },
  {
   "cell_type": "code",
   "execution_count": 1,
   "id": "388e0ee9",
   "metadata": {},
   "outputs": [
    {
     "name": "stdin",
     "output_type": "stream",
     "text": [
      "Enter a value for Initial Estimate X0 greater than 0:  2\n",
      "Enter a value for a:  5\n"
     ]
    },
    {
     "name": "stdout",
     "output_type": "stream",
     "text": [
      "Estimated value of x1 :  2.25\n",
      "Estimated value of x2 :  2.236111111111111\n",
      "Estimated value of x3 :  2.236067977915804\n",
      "Estimated value of x4 :  2.23606797749979\n",
      "Estimated value of x5 :  2.23606797749979\n",
      "Estimated value of x6 :  2.23606797749979\n",
      "Estimated value of x7 :  2.23606797749979\n",
      "Estimated value of x8 :  2.23606797749979\n",
      "Estimated value of x9 :  2.23606797749979\n",
      "Estimated value of x10 :  2.23606797749979\n",
      "The square root of a is:  2.23606797749979\n"
     ]
    }
   ],
   "source": [
    "#classwork1\n",
    "import numpy as np\n",
    "\n",
    "# Get user input\n",
    "x_value = float(input(\"Enter a value for Initial Estimate X0 greater than 0: \"))\n",
    "a_value = int(input(\"Enter a value for a: \"))\n",
    "\n",
    "def squareRoot(x, a):\n",
    "    f_x = (x**2) - a\n",
    "    derivative_x = 2 * x\n",
    "    evaluated_x = x - (f_x / derivative_x)\n",
    "    return evaluated_x\n",
    "\n",
    "#assign x and a the value of the global var\n",
    "x = x_value\n",
    "a = a_value\n",
    "num_iterations = 10\n",
    "\n",
    "for i in range(num_iterations):\n",
    "    #for each i, squareRoot function is called and stored the value in x\n",
    "    x = squareRoot(x, a)\n",
    "    print(\"Estimated value of x\" + str(i+1),\": \",x)\n",
    "\n",
    "print('The square root of a is: ', np.sqrt(a))\n"
   ]
  },
  {
   "cell_type": "code",
   "execution_count": 2,
   "id": "3eac3b92-c333-4055-ba8d-dba4028ad76b",
   "metadata": {},
   "outputs": [
    {
     "data": {
      "text/plain": [
       "2.25"
      ]
     },
     "execution_count": 2,
     "metadata": {},
     "output_type": "execute_result"
    }
   ],
   "source": [
    "squareRoot(x_value,a_value)"
   ]
  },
  {
   "cell_type": "code",
   "execution_count": null,
   "id": "1d809357-a400-4571-876c-a1c44206612b",
   "metadata": {},
   "outputs": [],
   "source": []
  }
 ],
 "metadata": {
  "kernelspec": {
   "display_name": "Python 3 (ipykernel)",
   "language": "python",
   "name": "python3"
  },
  "language_info": {
   "codemirror_mode": {
    "name": "ipython",
    "version": 3
   },
   "file_extension": ".py",
   "mimetype": "text/x-python",
   "name": "python",
   "nbconvert_exporter": "python",
   "pygments_lexer": "ipython3",
   "version": "3.9.19"
  }
 },
 "nbformat": 4,
 "nbformat_minor": 5
}

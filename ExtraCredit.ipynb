{
 "cells": [
  {
   "cell_type": "code",
   "execution_count": null,
   "id": "b338ec8b-bd6a-40f6-bbf0-6715aa1e6d87",
   "metadata": {},
   "outputs": [],
   "source": [
    "import selenium\n",
    "from selenium import webdriver\n",
    "from selenium.common import NoSuchElementException, ElementNotInteractableException\n",
    "from selenium.webdriver.common.by import By\n",
    "from selenium.webdriver.support.wait import WebDriverWait\n",
    "from selenium.webdriver.support import expected_conditions as EC\n",
    "import pandas as pd\n",
    "import time"
   ]
  },
  {
   "cell_type": "code",
   "execution_count": null,
   "id": "3f325557-5ce4-4e69-bd4a-fd313c3eff72",
   "metadata": {},
   "outputs": [],
   "source": [
    "driver = webdriver.Chrome()\n"
   ]
  },
  {
   "cell_type": "code",
   "execution_count": null,
   "id": "3a3575b0-d0d7-47a2-9cdd-c571c1b8cc43",
   "metadata": {},
   "outputs": [],
   "source": [
    "driver.get('https://generalssb-prod.ec.njit.edu/BannerExtensibility/customPage/page/stuRegCrseSched')"
   ]
  },
  {
   "cell_type": "code",
   "execution_count": null,
   "id": "4c51bea1-ae2d-45b7-9b63-91b4b2099ccb",
   "metadata": {},
   "outputs": [],
   "source": [
    "driver.implicitly_wait(5)\n",
    "left_link = driver.find_element(By.ID, 'pbid-subjListTableSubjectLink-16')"
   ]
  },
  {
   "cell_type": "code",
   "execution_count": null,
   "id": "ea32e7f5-c2aa-42f2-a04b-dd7f052f44a3",
   "metadata": {},
   "outputs": [],
   "source": [
    "ds_link = left_link.find_element(by=By.TAG_NAME, value='a')\n",
    "ds_link.click()"
   ]
  },
  {
   "cell_type": "code",
   "execution_count": null,
   "id": "e7bffe8d-f281-4c2f-830e-20189f619f8f",
   "metadata": {},
   "outputs": [],
   "source": [
    "my_span = driver.find_element(by=By.ID, value='pbid-courseListSectionDetailSections-0')"
   ]
  },
  {
   "cell_type": "code",
   "execution_count": null,
   "id": "0298e708-8856-4ada-9dc7-ed113666cd22",
   "metadata": {},
   "outputs": [],
   "source": [
    "print(my_span)"
   ]
  },
  {
   "cell_type": "code",
   "execution_count": 21,
   "id": "3087b5dc-0ddc-41a8-93cb-83c2956b7dac",
   "metadata": {},
   "outputs": [],
   "source": [
    "course_headers = my_span.find_elements(by=By.TAG_NAME, value=\"H4\")\n"
   ]
  },
  {
   "cell_type": "code",
   "execution_count": 22,
   "id": "6a197276-0041-48d1-8ad9-b3bfec1cd81e",
   "metadata": {},
   "outputs": [],
   "source": [
    "course_tables = my_span.find_elements(by=By.TAG_NAME, value=\"table\")"
   ]
  },
  {
   "cell_type": "code",
   "execution_count": 23,
   "id": "104f86da-7549-4ac0-ab6e-68edffed3755",
   "metadata": {},
   "outputs": [
    {
     "name": "stdout",
     "output_type": "stream",
     "text": [
      "I have 88 headers and 88 tables\n"
     ]
    }
   ],
   "source": [
    "print(\"I have {} headers and {} tables\".format(len(course_headers), len(course_tables)))"
   ]
  },
  {
   "cell_type": "code",
   "execution_count": 24,
   "id": "15dd649c-df47-454d-9c7c-3e0d2383eb57",
   "metadata": {},
   "outputs": [],
   "source": [
    "def create_column_headings(table_headers):\n",
    "    loc_columns = ['Course_name']\n",
    "    for i in range(len(table_headers)):\n",
    "        loc_columns.append(table_headers[i].text)\n",
    "    return loc_columns"
   ]
  },
  {
   "cell_type": "code",
   "execution_count": 25,
   "id": "13454537-df65-4eef-9f9e-f31786a21d05",
   "metadata": {},
   "outputs": [],
   "source": [
    "def create_course_listings(c_headers, c_tables):\n",
    "    c_list = []\n",
    "    for i in range(len(c_headers)):\n",
    "        course_name = c_headers[i].text\n",
    "#       collect the rows for each section of the course\n",
    "        t_rows = c_tables[i].find_elements(by=By.CLASS_NAME, value='success')\n",
    "#       for each row, get all of the cells\n",
    "        for k in range(len(t_rows)):\n",
    "            course_row = []\n",
    "            course_row.append(course_name)\n",
    "            t_cells = t_rows[k].find_elements(by=By.TAG_NAME, value='td')\n",
    "            for l in range(len(t_cells)):\n",
    "                course_row.append(t_cells[l].text)\n",
    "            c_list.append(course_row)\n",
    "    return c_list\n"
   ]
  },
  {
   "cell_type": "code",
   "execution_count": 26,
   "id": "6850b649-4e10-459b-9205-064da6e82e76",
   "metadata": {},
   "outputs": [],
   "source": [
    "# create column headings by using the 'th' cells of the first table\n",
    "t_headers = course_tables[0].find_elements(by=By.TAG_NAME, value=\"th\")\n",
    "columns = create_column_headings(t_headers)"
   ]
  },
  {
   "cell_type": "code",
   "execution_count": null,
   "id": "c14a5503-6e65-4f2b-b010-aa38aa9d6e8c",
   "metadata": {},
   "outputs": [],
   "source": [
    "# use the list of course_headers and the list of course_tables to build\n",
    "#   individual rows - one for each course/section\n",
    "course_list = create_course_listings(course_headers, course_tables)\n",
    "df = pd.DataFrame(course_list, columns=columns)\n",
    "driver.quit()"
   ]
  },
  {
   "cell_type": "code",
   "execution_count": null,
   "id": "7c7343c5-ef95-48cb-b279-9aff58366efa",
   "metadata": {},
   "outputs": [],
   "source": [
    "df"
   ]
  },
  {
   "cell_type": "code",
   "execution_count": null,
   "id": "d886253f-db28-4c81-bac1-8195237b1223",
   "metadata": {},
   "outputs": [],
   "source": []
  }
 ],
 "metadata": {
  "kernelspec": {
   "display_name": "Python 3 (ipykernel)",
   "language": "python",
   "name": "python3"
  },
  "language_info": {
   "codemirror_mode": {
    "name": "ipython",
    "version": 3
   },
   "file_extension": ".py",
   "mimetype": "text/x-python",
   "name": "python",
   "nbconvert_exporter": "python",
   "pygments_lexer": "ipython3",
   "version": "3.9.19"
  }
 },
 "nbformat": 4,
 "nbformat_minor": 5
}

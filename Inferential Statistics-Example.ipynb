{
 "cells": [
  {
   "cell_type": "markdown",
   "id": "25f61dcc",
   "metadata": {},
   "source": [
    "### Central Limit Theorem\n",
    "\n",
    "The sampling distributions of many statistics of interest look similarly symmetric and bell-shaped. An important mathematical result, the Central Limit Theorem, specifies the conditions for which a statistic's sampling distribution will approximately follow a normal distribution. The **Central Limit Theorem** (CLT) states that if random samples of size  are drawn from a large population and  is large enough, then the sampling distribution of the sample mean will follow approximately a normal distribution. The CLT also applies to proportions since a proportion can be expressed as the mean of zeros and ones.\n",
    "\n"
   ]
  },
  {
   "cell_type": "markdown",
   "id": "82c92b6d",
   "metadata": {},
   "source": [
    "### Hypothesis testing\n",
    "\n",
    "A hypothesis test is a method for evaluating a claim, or hypothesis, about a population parameter by examining the statistical evidence against the claim based on a sample. The conclusion of a hypothesis test is a decision that the observed data either indicate the claim is plausible or support an alternative explanation. The following steps outline the general process of conducting a hypothesis test.\n",
    "\n",
    "1.  State null and alternative hypotheses about parameters. **The null hypothesis**,*H<sub>0</sub>* , is typically the by-chance or no-effect explanation, and the **alternative hypothesis**, *H<sub>a</sub>* , is typically the explanation of an effect, or difference.\n",
    "2.  Calculate a statistic of interest from the sample data that is used to evaluate the null hypothesis.\n",
    "3.  Determine the p-value, or likelihood, of obtaining a statistic at least as extreme as the observed statistic when the null hypothesis is true.\n",
    "4.  Draw a conclusion about the null hypothesis based on the statistical evidence provided by the p-value.\n"
   ]
  },
  {
   "cell_type": "markdown",
   "id": "052e3c54",
   "metadata": {},
   "source": [
    "### Type I and type II errors\n",
    "\n",
    "The decision from a hypothesis test is to either reject the null hypothesis or fail to reject the null hypothesis. The **significance level**, **𝛂**, of a hypothesis test is how small the p-value must be to conclude the data provide enough statistical evidence to reject the null hypothesis. The decision is to reject the null hypothesis if the p-value is less than or equal to **𝛂**, and fail to reject the null hypothesis if the p-value is greater than **𝛂**.\n",
    "\n",
    "In reality, either the null hypothesis is true or the alternative hypothesis is true. Thus, the conclusion from a hypothesis test is either correct or incorrect. Ex: Suppose the conclusion from a hypothesis test is that the data support a population mean commute time of 25 minutes. If the mean commute time of the population is actually about 25 minutes, then a correct decision is made. But, if the population mean commute time is actually 40 minutes, then an incorrect decision is made.\n",
    "\n",
    "- A **type I** error is rejecting the null hypothesis in favor of the alternative when in reality the null hypothesis is true.\n",
    "- A **type II** error is failing to reject the null hypothesis when in reality the alternative hypothesis is true.\n"
   ]
  },
  {
   "cell_type": "markdown",
   "id": "c2ac34d2",
   "metadata": {},
   "source": [
    "### Cold Recovery Times\n",
    "\n",
    "*Prior studies have shown that the mean recovery time for a cold is 18 days, with a standard deviation of 1.5 days and a normal distribution.*\n",
    "\n",
    "What is the range of recovery times for 95% of cold occurrences?\n",
    "- For the range with a 95% probability, we eliminate 2.5% from the lower range of the distribution and 2.5% from the upper range of the distribution\n",
    "- We use the inverse cdf function (ppf) to find the x-value at those cutoff points."
   ]
  },
  {
   "cell_type": "code",
   "execution_count": 1,
   "id": "4bb0631c",
   "metadata": {},
   "outputs": [
    {
     "name": "stdout",
     "output_type": "stream",
     "text": [
      "Upper limit:  [20.93994598]\n",
      "Lower limit:  [15.06005402]\n"
     ]
    }
   ],
   "source": [
    "from scipy.stats import norm\n",
    "\n",
    "mean = 18,\n",
    "std_dev = 1.5\n",
    "lower_cutoff = 0.025\n",
    "upper_cutoff = 1.0 - lower_cutoff\n",
    "\n",
    "print('Upper limit: ', norm.ppf(upper_cutoff,mean,std_dev))\n",
    "print('Lower limit: ', norm.ppf(lower_cutoff, mean, std_dev))"
   ]
  },
  {
   "cell_type": "markdown",
   "id": "7cb611e4",
   "metadata": {},
   "source": [
    "#### A new drug was tested on 40 people and the test group's mean time to recover was 16 days\n",
    "\n",
    "*Did the drug have an impact or was the difference just a random sample? Is this difference statistically significant?*\n",
    "\n",
    "The threshold value for statistical significance($ \\alpha $) is commonly set at 0.05."
   ]
  },
  {
   "cell_type": "markdown",
   "id": "2ccfd9ed",
   "metadata": {},
   "source": [
    "#### For a one-tailed test we define our null hypothesis ($ H_0 $) and alternative hypothese ($ H_1 $):\n",
    "\n",
    "$ H_0:\\ population\\ mean\\ ≥\\ 18 \\\\\n",
    "H_1:\\ population\\ mean\\ <\\ 18 $"
   ]
  },
  {
   "cell_type": "code",
   "execution_count": 2,
   "id": "d056d725",
   "metadata": {},
   "outputs": [
    {
     "name": "stdout",
     "output_type": "stream",
     "text": [
      "[15.53271956]\n"
     ]
    }
   ],
   "source": [
    "# what x-value has 5% of the area behind it?\n",
    "x = norm.ppf(.05, mean, std_dev)\n",
    "print(x)"
   ]
  },
  {
   "cell_type": "code",
   "execution_count": 3,
   "id": "19f4baba",
   "metadata": {},
   "outputs": [
    {
     "name": "stdout",
     "output_type": "stream",
     "text": [
      "[0.09121122]\n"
     ]
    }
   ],
   "source": [
    "# what is the probability of 16 days or less?\n",
    "p_value = norm.cdf(16, mean, std_dev)\n",
    "print(p_value)"
   ]
  },
  {
   "cell_type": "markdown",
   "id": "dd261ab9",
   "metadata": {},
   "source": [
    "*Because our p_value (0.09) is not less than the threshold value (0.05) we cannot reject the null hypothesis and must conclude that the drug does not have a statistically significant effect.*"
   ]
  },
  {
   "cell_type": "markdown",
   "id": "458b92ce",
   "metadata": {},
   "source": [
    "#### For a two-tailed test (a safer and better practice) we define our null hypothesis ($ H_0 $) and alternative hypothese ($ H_1 $):\n",
    "\n",
    "$ H_0:\\ population\\ mean\\ =\\ 18 \\\\\n",
    "H_1:\\ population\\ mean\\ ≠\\ 18 $"
   ]
  },
  {
   "cell_type": "code",
   "execution_count": 4,
   "id": "861878e8",
   "metadata": {},
   "outputs": [
    {
     "name": "stdout",
     "output_type": "stream",
     "text": [
      "[15.06005402]\n",
      "[20.93994598]\n"
     ]
    }
   ],
   "source": [
    "# what x-value has 2.5% of the area behind it?\n",
    "x1 = norm.ppf(.025, mean, std_dev)\n",
    "# what x_alue has 97.5% of the area behind it?\n",
    "x2 = norm.ppf(.975, mean, std_dev)\n",
    "print(x1)\n",
    "print(x2)"
   ]
  },
  {
   "cell_type": "markdown",
   "id": "301354b3",
   "metadata": {},
   "source": [
    "*for a two-tailed p-value, we need to use the lower test statistic: **16** (2 less than the mean) and the upper test statistic: **20** (2 more than the mean)* "
   ]
  },
  {
   "cell_type": "code",
   "execution_count": 5,
   "id": "b62bd032",
   "metadata": {},
   "outputs": [
    {
     "name": "stdout",
     "output_type": "stream",
     "text": [
      "[0.18242244]\n"
     ]
    }
   ],
   "source": [
    "# probability of 16 or less days\n",
    "p1 = norm.cdf(16, mean, std_dev)\n",
    "# probability of 20 or more days\n",
    "p2 = 1 - norm.cdf(20, mean, std_dev)\n",
    "\n",
    "p_value = p1 + p2\n",
    "print(p_value)"
   ]
  },
  {
   "cell_type": "markdown",
   "id": "3f69c7fb",
   "metadata": {},
   "source": [
    "*Our p-value is even higher and we cannot reject the null hypothesis*"
   ]
  },
  {
   "cell_type": "code",
   "execution_count": null,
   "id": "9e5453f5",
   "metadata": {},
   "outputs": [],
   "source": []
  }
 ],
 "metadata": {
  "kernelspec": {
   "display_name": "Python 3 (ipykernel)",
   "language": "python",
   "name": "python3"
  },
  "language_info": {
   "codemirror_mode": {
    "name": "ipython",
    "version": 3
   },
   "file_extension": ".py",
   "mimetype": "text/x-python",
   "name": "python",
   "nbconvert_exporter": "python",
   "pygments_lexer": "ipython3",
   "version": "3.9.19"
  }
 },
 "nbformat": 4,
 "nbformat_minor": 5
}

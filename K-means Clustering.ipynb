{
 "cells": [
  {
   "cell_type": "markdown",
   "id": "bb180a4b-2eea-4d7a-a33e-f04bffceafb9",
   "metadata": {},
   "source": [
    "### Introduction to centroid clustering\n",
    "\n",
    "A cluster is a set of instances with similar characteristics. Grouping instances into classes with similar characteristics is called clustering. The notion of similarity may not be intuitive when the data has many features. A natural way of quantifying similarity is by picking a centroid for each cluster and finding the distance between the instance and the centroid. A centroid is a point that represents the center of each cluster. Instances that are closer to a cluster's centroid are said to be similar to each other and considered part of the cluster."
   ]
  },
  {
   "cell_type": "markdown",
   "id": "513b78c1-0bb4-4a6d-8367-8d33b1b77592",
   "metadata": {},
   "source": [
    "### *k*-means clustering\n",
    "\n",
    "*k*-means clustering is an iterative algorithm that groups instances into non-overlapping clusters. The goal is to minimize the distance between a cluster's centroid and instances within the cluster and maximize the distance between clusters.\n",
    "\n",
    "Euclidean distance is one of the most common distance measures and gives the length of the line segment connecting two points in two- and three- dimensional space. For example, the Euclidean distance between $ (x_1,y_1) $ and $ (x_2,y_2) $ is\n",
    "\n",
    "$$ \\boldsymbol{\\sqrt{(x_2-x_1)^2 + (y_2-y_1)^2}} $$\n",
    "\n",
    "A cluster's centroid is the arithmetic mean of the coordiates of the instances within the cluster. In particular, the centroid of a cluster containing $ (x_1,y_1) $ and $ (x_2,y_2) $ is\n",
    "\n",
    "$$ \\boldsymbol{\\bigg(\\frac{(x_2+x_1)}{2},\\frac{(y_2+Y_1)}{2}\\bigg)} $$\n",
    "\n",
    "***k*-means clustering**.\n",
    "\n",
    "Step 1: Select the number of clusters  and randomly initialize *k* instances as cluster centroids.\n",
    "\n",
    "Step 2: For each instance, calculate the distance between that instance and each cluster's centroid, and assign the instance to the cluster with the closest centroid.\n",
    "\n",
    "Step 3: For each cluster, calculate the mean of all instances in the cluster. This mean becomes the new centroid.\n",
    "\n",
    "Step 4: Repeat steps 2 and 3 until a stopping criterion is met such as reaching a certain number of iterations or the centroids staying the same."
   ]
  },
  {
   "cell_type": "markdown",
   "id": "601329f4-1b94-4510-bda8-c2d55fc5fa1a",
   "metadata": {},
   "source": []
  },
  {
   "cell_type": "markdown",
   "id": "10183641-486d-4c5a-b974-c8e8d1bdeadf",
   "metadata": {},
   "source": [
    "### Finding the optimal number of clusters\n",
    "\n",
    "The number of clusters is not often obvious, especially if the data has more than two features. The elbow method is the most common technique to determine the optimal number of clusters for the data. The elbow method plots the sum of the square distances of instances to the closest centroid, known as within-cluster sum of squares or WCSS, for each value of *k*. A tradeoff exists between WCSS and the number of clusters: higher  results in lower WCSS. The value of  at the elbow point gives the optimal number of clusters for the *k*-means clustering algorithm.\n",
    "\n",
    "$$ \\boldsymbol{\\sum_{C_k}^{C_n}(\\sum_{d_i in C_i}^{d_n}distance(d_i,C_k)^2)} $$\n",
    "$ \\boldsymbol{\\\\Where,\\\\C\\ is\\ the\\ cluster\\ centroids\\ and\\ d\\ is\\ the\\ the\\ data\\ points\\ in\\ each\\ Cluster} $\n",
    "\n",
    "| ![WCSS.png](WCSS.png) |\n",
    "|:--:|\n",
    "| <b>Source: https://analyticsindiamag.com/beginners-guide-to-k-means-clustering/</b>|\n"
   ]
  },
  {
   "cell_type": "code",
   "execution_count": null,
   "id": "b6bb9636",
   "metadata": {},
   "outputs": [],
   "source": [
    "# Import packages and functions\n",
    "import matplotlib.pyplot as plt\n",
    "import seaborn as sns\n",
    "import pandas as pd\n",
    "\n",
    "from sklearn.cluster import KMeans"
   ]
  },
  {
   "cell_type": "markdown",
   "id": "98fd467c",
   "metadata": {},
   "source": [
    "[oldfaithful.csv](https://drive.google.com/file/d/1PSrrlncm2e0xsqm7zJwKnEtykzYoePH0/view?usp=sharing)"
   ]
  },
  {
   "cell_type": "code",
   "execution_count": null,
   "id": "10d68ccb",
   "metadata": {},
   "outputs": [],
   "source": [
    "# Load dataset\n",
    "geyser = pd.read_csv('data/oldfaithful.csv')\n",
    "geyser"
   ]
  },
  {
   "cell_type": "code",
   "execution_count": null,
   "id": "d5fb6ff8",
   "metadata": {},
   "outputs": [],
   "source": [
    "# Visual exploration\n",
    "p = sns.scatterplot(data=geyser, x='Eruption', y='Waiting')\n",
    "p.set_xlabel('Eruption time (min)', fontsize=14)\n",
    "p.set_ylabel('Waiting time (min)', fontsize=14)"
   ]
  },
  {
   "cell_type": "code",
   "execution_count": null,
   "id": "01131fde",
   "metadata": {},
   "outputs": [],
   "source": [
    "# Initialize a k-means model with k=2\n",
    "kmModel = KMeans(n_clusters=2, n_init='auto')\n",
    "\n",
    "# Fit the model\n",
    "kmModel = kmModel.fit(geyser)\n",
    "\n",
    "# Save the cluster centroids\n",
    "centroids = kmModel.cluster_centers_\n",
    "centroids[1]"
   ]
  },
  {
   "cell_type": "code",
   "execution_count": null,
   "id": "98c8acbc",
   "metadata": {},
   "outputs": [],
   "source": [
    "# Save the cluster assignments\n",
    "clusters = kmModel.fit_predict(geyser[['Eruption', 'Waiting']])\n",
    "\n",
    "# View the clusters for the first five instances\n",
    "clusters[0:5]"
   ]
  },
  {
   "cell_type": "code",
   "execution_count": null,
   "id": "5e02cf39",
   "metadata": {},
   "outputs": [],
   "source": [
    "clusters.shape"
   ]
  },
  {
   "cell_type": "code",
   "execution_count": null,
   "id": "eeeae1df",
   "metadata": {},
   "outputs": [],
   "source": [
    "geyser.shape"
   ]
  },
  {
   "cell_type": "code",
   "execution_count": null,
   "id": "b99b3264",
   "metadata": {},
   "outputs": [],
   "source": [
    "# Plot clusters\n",
    "p = sns.scatterplot(\n",
    "    data=geyser, x='Eruption', y='Waiting', hue=clusters, style=clusters\n",
    ")\n",
    "p.set_xlabel('Eruption time (min)', fontsize=14)\n",
    "p.set_ylabel('Waiting time (min)', fontsize=14)\n",
    "\n",
    "# Add centroid for cluster 0\n",
    "plt.scatter(x=centroids[0, 0], y=centroids[0, 1], c='black')\n",
    "\n",
    "# Add centroid for cluster 1\n",
    "plt.scatter(x=centroids[1, 0], y=centroids[1, 1], c='black', marker='X')"
   ]
  },
  {
   "cell_type": "code",
   "execution_count": null,
   "id": "6330f00d",
   "metadata": {},
   "outputs": [],
   "source": [
    "# Fit k-means clustering with k=1,...,5 and save WCSS for each\n",
    "WCSS = []\n",
    "k = [1, 2, 3, 4, 5]\n",
    "for j in k:\n",
    "    kmModel = KMeans(n_clusters=j,n_init='auto')\n",
    "    kmModel = kmModel.fit(geyser)\n",
    "    WCSS.append(kmModel.inertia_)"
   ]
  },
  {
   "cell_type": "code",
   "execution_count": null,
   "id": "fa91e3e7",
   "metadata": {},
   "outputs": [],
   "source": [
    "# Plot the WCSS for each cluster\n",
    "ax = plt.figure().gca()\n",
    "plt.plot(k, WCSS, '*-')\n",
    "plt.xlabel('Number of clusters (k)', fontsize=14)\n",
    "plt.ylabel('Within-cluster sum of squares (WCSS)', fontsize=14)"
   ]
  },
  {
   "cell_type": "code",
   "execution_count": null,
   "id": "5ceea597",
   "metadata": {},
   "outputs": [],
   "source": [
    "geyser['Cluster'] = clusters"
   ]
  },
  {
   "cell_type": "code",
   "execution_count": null,
   "id": "bba91e26",
   "metadata": {},
   "outputs": [],
   "source": [
    "geyser.head()"
   ]
  },
  {
   "cell_type": "code",
   "execution_count": null,
   "id": "31d15c2e",
   "metadata": {},
   "outputs": [],
   "source": [
    "geyser.Cluster.unique"
   ]
  },
  {
   "cell_type": "code",
   "execution_count": null,
   "id": "94b0a826-75f7-4074-b1f6-61886e353007",
   "metadata": {},
   "outputs": [],
   "source": []
  }
 ],
 "metadata": {
  "kernelspec": {
   "display_name": "Python 3 (ipykernel)",
   "language": "python",
   "name": "python3"
  },
  "language_info": {
   "codemirror_mode": {
    "name": "ipython",
    "version": 3
   },
   "file_extension": ".py",
   "mimetype": "text/x-python",
   "name": "python",
   "nbconvert_exporter": "python",
   "pygments_lexer": "ipython3",
   "version": "3.9.19"
  }
 },
 "nbformat": 4,
 "nbformat_minor": 5
}

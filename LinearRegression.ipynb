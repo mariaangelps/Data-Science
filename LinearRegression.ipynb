{
 "cells": [
  {
   "cell_type": "markdown",
   "id": "f83c58b5",
   "metadata": {},
   "source": [
    "### Regression models\n",
    "\n",
    "A **model** for an output feature **y** using input feature(s) $ \\mathbf f(X) $ is a function  that predicts an expected value of ***y*** for a given value of ***X*** as $ \\mathbf{\\hat{y}\\:=\\:f(X)} $. So $ \\mathbf{\\hat{y}} $ is the predicted value for the output feature  for a given value of the input feature $ \\mathbf{X} $. Specifically, a regression model is a model that uses numeric output features. Visually, a **regression model** for data graphed on a scatter plot traces out a line or a nonlinear curve.\n",
    "\n",
    "If two features have a strong relationship, predicted values should be close to the observed values. Closeness can be seen visually by comparing points to the graph of the model. Closeness can be measured numerically using residuals. The **residual** of an instance $ \\mathbf{(x_i,y_i)} $ is the difference between the observed and predicted value $ \\mathbf{(y_i\\:-\\:\\hat{y})} $. A well-fitting model should have small residuals on average.\n",
    "\n",
    "A model is also used to make predictions about values aside from what was observed. Predictions should only be made for values close to the range of the original data. An **extrapolation** is a prediction for a value far beyond the range of the original data and is often misleading or inaccurate."
   ]
  },
  {
   "cell_type": "markdown",
   "id": "828a47e9",
   "metadata": {},
   "source": [
    "### Simple linear regression ###\n",
    "\n",
    "The simplest regression model for a pair of numeric features $ \\mathbf{(x,y)} $ is to consider a model that predicts the output feature $ \\mathbf{y} $ for a given input feature $ \\mathbf{x} $ using a line graphed in the scatter plot. A simple linear regression is a mathematical model of the form $ \\mathbf{\\hat{y}\\:=\\:b_0\\:+\\:b_1x} $, where:\n",
    "\n",
    "$ \\mathbf{x} $ is the input feature.<br>\n",
    "$ \\mathbf{\\hat{y}} $ is the predicted value of the output feature $ \\mathbf{y} $ for a given value of $ \\mathbf{y} $.<br>\n",
    "$ \\mathbf{b_0} $ is the $ \\mathbf{y} $ -intercept, representing the predicted value of $ \\mathbf{y} $ when $ \\mathbf{x\\:=\\:0} $.<br>\n",
    "$ \\mathbf{b_1} $ is the slope, representing how much the predicted value of $ \\mathbf{y} $ changes for a one-unit change in the value of $ \\mathbf{x} $ .\n"
   ]
  },
  {
   "cell_type": "markdown",
   "id": "547f0061",
   "metadata": {},
   "source": [
    "### The least-squares regression line ###\n",
    "\n",
    "The values of $ \\mathbf{b_0} $ and $ \\mathbf{b_1} $ should be chosen so that the predictions $ \\mathbf{\\hat{y}_i} $ are as close as possible, on average, to the observed values $ \\mathbf{y}_i $. A common method to compute regression coefficients is to minimize some mathematical combination of the residuals $ \\mathbf{(y_i\\:-\\:\\hat{y}_i}) $ . The sum of squared errors (**SSE**) is the sum of the squares of all residuals and can be found by the formula $ \\mathbf{\\sum{(y_i\\ -\\ \\hat{y}_i)^2}} $. A **least-squares regression line** is a simple linear regression $ \\mathbf{\\hat{y}\\:=\\:b_0\\:+\\:b_1x} $ that minimizes the sum of squared errors.\n",
    "\n",
    "How well the simple linear regression line models the data can be measured by how much closer the predictions from the regression line are to the observed values compared to predictions from a model that assumes no relationship exists between $ \\mathit{x} $ and $ \\mathit{x} $ . Such a \"no-relationship\" model would be a horizontal line model $ \\mathbf{\\hat{y}\\ = \\bar{y}} $ that returns the mean $ \\mathit{\\bar{y}} $ for every value of $ \\mathit{x} $. The proportion of variation explained by a simple linear regression is given by the equation\n",
    "$$ \\mathbf{\\frac{SSE(\\bar{y})\\ -\\ SSE(regression\\ line)}{SSE(\\bar{y})}} $$\n"
   ]
  },
  {
   "cell_type": "markdown",
   "id": "b1c5956c",
   "metadata": {},
   "source": [
    "### The correlation coefficient $ \\mathit{r} $ and least-squares regression   ###\n",
    "\n",
    "Above, the least-squares regression was given, but was using a simple linear model appropriate in the first place? If so, how were the coefficients computed? The answer to both questions involve the scatter plot and the data's summary statistics. A simple linear regression should only be used as a model when the scatter plot of  displays a strong linear form. The linearity must be visually confirmed, but the strength can be checked numerically.\n",
    "\n",
    "The correlation coefficient  measures the direction and strength of a linear relationship as a unitless value between -1 and 1, and can be computed by the formula\n",
    "\n",
    "$$ r\\ =\\ \\frac{\\sum{(x_i\\ -\\ \\bar{x})(y_i\\ -\\ \\bar{y})}}{\\sqrt{\\sum{(x_i\\ -\\ \\bar{x})^2}\\ \\cdot\\ \\sum{(y_i\\ -\\ \\bar{y})^2}}}\\ =\\ \\frac{1}{n\\ -\\ 1}\\sum{\\bigg(\\frac{x_i\\ -\\ \\bar{x}}{s_x}\\bigg)\\bigg(\\frac{y_i\\ -\\ \\bar{y}}{s_y}\\bigg)} $$\n",
    "\n",
    "where $ \\mathit{\\bar{x}} $ and $ \\mathit{\\bar{y}} $ are the sample means, $ \\mathit{s_x} $  and $ \\mathit{s_y} $  are the sample standard deviations, $ \\mathit{n} $  is the sample size, and $ \\mathit{(x_i,y_i)} $  are the observed values.\n",
    "\n",
    "A large positive $ \\mathit{r} $  value indicates a positive linear association, and a large negative $ \\mathit{r} $  value indicates a negative linear association.\n",
    "\n",
    "If a simple linear regression is appropriate, the slope  and intercept  of the least-squares regression can be computed from the correlation coefficient as\n",
    "\n",
    "$$ \\mathbf{b_1\\ =\\ r\\frac{s_y}{s_x}}\\ \\ and\\ \\ \\mathbf{b_0\\ =\\ \\bar{y}\\ -\\ b_1\\cdot\\bar{x}} $$\n",
    "\n",
    "Furthermore, the proportion of variation explained by the least-squares regression is equal to  $ \\mathit{r^2} $."
   ]
  },
  {
   "cell_type": "code",
   "execution_count": 2,
   "id": "3bd78dfd",
   "metadata": {},
   "outputs": [],
   "source": [
    "# Import packages\n",
    "\n",
    "import matplotlib.pyplot as plt\n",
    "import pandas as pd\n",
    "import numpy as np\n",
    "from sklearn.linear_model import LinearRegression\n",
    "from sklearn.feature_selection import r_regression"
   ]
  },
  {
   "cell_type": "markdown",
   "id": "3ded5b92",
   "metadata": {},
   "source": [
    "[crab-groups.csv](https://drive.google.com/file/d/1_xIYHD6jASWs42Fkr3fEmMPuojH_dSp3/view?usp=sharing)"
   ]
  },
  {
   "cell_type": "code",
   "execution_count": 3,
   "id": "4ebbd951",
   "metadata": {},
   "outputs": [
    {
     "data": {
      "text/html": [
       "<div>\n",
       "<style scoped>\n",
       "    .dataframe tbody tr th:only-of-type {\n",
       "        vertical-align: middle;\n",
       "    }\n",
       "\n",
       "    .dataframe tbody tr th {\n",
       "        vertical-align: top;\n",
       "    }\n",
       "\n",
       "    .dataframe thead th {\n",
       "        text-align: right;\n",
       "    }\n",
       "</style>\n",
       "<table border=\"1\" class=\"dataframe\">\n",
       "  <thead>\n",
       "    <tr style=\"text-align: right;\">\n",
       "      <th></th>\n",
       "      <th>latitude</th>\n",
       "      <th>n</th>\n",
       "      <th>mean_mm</th>\n",
       "      <th>min_mm</th>\n",
       "      <th>max_mm</th>\n",
       "      <th>sd_mm</th>\n",
       "      <th>median_mm</th>\n",
       "    </tr>\n",
       "  </thead>\n",
       "  <tbody>\n",
       "    <tr>\n",
       "      <th>count</th>\n",
       "      <td>13.000000</td>\n",
       "      <td>13.000000</td>\n",
       "      <td>13.000000</td>\n",
       "      <td>13.000000</td>\n",
       "      <td>13.000000</td>\n",
       "      <td>13.000000</td>\n",
       "      <td>13.000000</td>\n",
       "    </tr>\n",
       "    <tr>\n",
       "      <th>mean</th>\n",
       "      <td>37.615385</td>\n",
       "      <td>30.153846</td>\n",
       "      <td>14.665385</td>\n",
       "      <td>9.743846</td>\n",
       "      <td>19.115385</td>\n",
       "      <td>2.457692</td>\n",
       "      <td>14.703846</td>\n",
       "    </tr>\n",
       "    <tr>\n",
       "      <th>std</th>\n",
       "      <td>4.451750</td>\n",
       "      <td>3.236411</td>\n",
       "      <td>2.465545</td>\n",
       "      <td>1.841533</td>\n",
       "      <td>3.043257</td>\n",
       "      <td>0.778440</td>\n",
       "      <td>2.592012</td>\n",
       "    </tr>\n",
       "    <tr>\n",
       "      <th>min</th>\n",
       "      <td>30.000000</td>\n",
       "      <td>25.000000</td>\n",
       "      <td>9.850000</td>\n",
       "      <td>6.640000</td>\n",
       "      <td>13.600000</td>\n",
       "      <td>1.790000</td>\n",
       "      <td>9.550000</td>\n",
       "    </tr>\n",
       "    <tr>\n",
       "      <th>25%</th>\n",
       "      <td>34.000000</td>\n",
       "      <td>28.000000</td>\n",
       "      <td>12.500000</td>\n",
       "      <td>8.520000</td>\n",
       "      <td>17.300000</td>\n",
       "      <td>2.050000</td>\n",
       "      <td>12.600000</td>\n",
       "    </tr>\n",
       "    <tr>\n",
       "      <th>50%</th>\n",
       "      <td>39.100000</td>\n",
       "      <td>30.000000</td>\n",
       "      <td>15.300000</td>\n",
       "      <td>9.580000</td>\n",
       "      <td>19.800000</td>\n",
       "      <td>2.300000</td>\n",
       "      <td>15.400000</td>\n",
       "    </tr>\n",
       "    <tr>\n",
       "      <th>75%</th>\n",
       "      <td>41.600000</td>\n",
       "      <td>30.000000</td>\n",
       "      <td>16.300000</td>\n",
       "      <td>11.000000</td>\n",
       "      <td>21.400000</td>\n",
       "      <td>2.420000</td>\n",
       "      <td>16.700000</td>\n",
       "    </tr>\n",
       "    <tr>\n",
       "      <th>max</th>\n",
       "      <td>42.700000</td>\n",
       "      <td>37.000000</td>\n",
       "      <td>18.500000</td>\n",
       "      <td>13.200000</td>\n",
       "      <td>23.400000</td>\n",
       "      <td>4.810000</td>\n",
       "      <td>18.400000</td>\n",
       "    </tr>\n",
       "  </tbody>\n",
       "</table>\n",
       "</div>"
      ],
      "text/plain": [
       "        latitude          n    mean_mm     min_mm     max_mm      sd_mm  \\\n",
       "count  13.000000  13.000000  13.000000  13.000000  13.000000  13.000000   \n",
       "mean   37.615385  30.153846  14.665385   9.743846  19.115385   2.457692   \n",
       "std     4.451750   3.236411   2.465545   1.841533   3.043257   0.778440   \n",
       "min    30.000000  25.000000   9.850000   6.640000  13.600000   1.790000   \n",
       "25%    34.000000  28.000000  12.500000   8.520000  17.300000   2.050000   \n",
       "50%    39.100000  30.000000  15.300000   9.580000  19.800000   2.300000   \n",
       "75%    41.600000  30.000000  16.300000  11.000000  21.400000   2.420000   \n",
       "max    42.700000  37.000000  18.500000  13.200000  23.400000   4.810000   \n",
       "\n",
       "       median_mm  \n",
       "count  13.000000  \n",
       "mean   14.703846  \n",
       "std     2.592012  \n",
       "min     9.550000  \n",
       "25%    12.600000  \n",
       "50%    15.400000  \n",
       "75%    16.700000  \n",
       "max    18.400000  "
      ]
     },
     "execution_count": 3,
     "metadata": {},
     "output_type": "execute_result"
    }
   ],
   "source": [
    "# Import data\n",
    "crabs = pd.read_csv('data/crab-groups.csv')\n",
    "crabs.describe()"
   ]
  },
  {
   "cell_type": "code",
   "execution_count": 4,
   "id": "cfd3dfea",
   "metadata": {},
   "outputs": [
    {
     "name": "stdout",
     "output_type": "stream",
     "text": [
      "<class 'pandas.core.frame.DataFrame'>\n",
      "RangeIndex: 13 entries, 0 to 12\n",
      "Data columns (total 9 columns):\n",
      " #   Column     Non-Null Count  Dtype  \n",
      "---  ------     --------------  -----  \n",
      " 0   site       13 non-null     object \n",
      " 1   latitude   13 non-null     float64\n",
      " 2   n          13 non-null     int64  \n",
      " 3   mean_mm    13 non-null     float64\n",
      " 4   min_mm     13 non-null     float64\n",
      " 5   max_mm     13 non-null     float64\n",
      " 6   sd_mm      13 non-null     float64\n",
      " 7   median_mm  13 non-null     float64\n",
      " 8   date       13 non-null     object \n",
      "dtypes: float64(6), int64(1), object(2)\n",
      "memory usage: 1.0+ KB\n"
     ]
    }
   ],
   "source": [
    "crabs.info()"
   ]
  },
  {
   "cell_type": "code",
   "execution_count": 5,
   "id": "70863b5c",
   "metadata": {},
   "outputs": [],
   "source": [
    "# Store relevant columns as variables\n",
    "X = crabs[['latitude']].values\n",
    "y = crabs[['mean_mm']].values.reshape(-1, 1)"
   ]
  },
  {
   "cell_type": "code",
   "execution_count": 6,
   "id": "4e65c947",
   "metadata": {},
   "outputs": [
    {
     "data": {
      "text/plain": [
       "Text(0, 0.5, 'Mean length (mm)')"
      ]
     },
     "execution_count": 6,
     "metadata": {},
     "output_type": "execute_result"
    },
    {
     "data": {
      "image/png": "[encoded data removed]",
      "text/plain": [
       "<Figure size 640x480 with 1 Axes>"
      ]
     },
     "metadata": {},
     "output_type": "display_data"
    }
   ],
   "source": [
    "# Fit a least squares regression model\n",
    "linModel = LinearRegression()\n",
    "linModel.fit(X, y)\n",
    "yPredicted = linModel.predict(X)\n",
    "\n",
    "# Graph the model\n",
    "plt.scatter(X, y, color='black')\n",
    "plt.plot(X, yPredicted, color='blue', linewidth=2)\n",
    "plt.xlabel('Latitude', fontsize=14)\n",
    "plt.ylabel('Mean length (mm)', fontsize=14)"
   ]
  },
  {
   "cell_type": "code",
   "execution_count": 7,
   "id": "0dd59ee7",
   "metadata": {},
   "outputs": [
    {
     "data": {
      "text/plain": [
       "Text(0, 0.5, 'Mean length (mm)')"
      ]
     },
     "execution_count": 7,
     "metadata": {},
     "output_type": "execute_result"
    },
    {
     "data": {
      "image/png": "[encoded data removed]",
      "text/plain": [
       "<Figure size 640x480 with 1 Axes>"
      ]
     },
     "metadata": {},
     "output_type": "display_data"
    }
   ],
   "source": [
    "# Graph the residuals\n",
    "plt.scatter(X, y, color='black')\n",
    "plt.plot(X, yPredicted, color='blue', linewidth=2)\n",
    "for i in range(len(X)):\n",
    "    plt.plot([X[i], X[i]], [y[i], yPredicted[i]], color='grey', linewidth=1)\n",
    "plt.xlabel('Latitude', fontsize=14)\n",
    "plt.ylabel('Mean length (mm)', fontsize=14)"
   ]
  },
  {
   "cell_type": "markdown",
   "id": "c3c78a10",
   "metadata": {},
   "source": [
    "### Why not just form a line like this?  What is the problem with a model that looks like this?"
   ]
  },
  {
   "cell_type": "code",
   "execution_count": 8,
   "id": "d07aabc8",
   "metadata": {},
   "outputs": [
    {
     "data": {
      "text/plain": [
       "Text(0, 0.5, 'Mean length (mm)')"
      ]
     },
     "execution_count": 8,
     "metadata": {},
     "output_type": "execute_result"
    },
    {
     "data": {
      "image/png": "[encoded data removed]",
      "text/plain": [
       "<Figure size 640x480 with 1 Axes>"
      ]
     },
     "metadata": {},
     "output_type": "display_data"
    }
   ],
   "source": [
    "# Graph the model\n",
    "plt.scatter(X, y, color='black')\n",
    "plt.plot(X, y, color='blue', linewidth=2)\n",
    "plt.xlabel('Latitude', fontsize=14)\n",
    "plt.ylabel('Mean length (mm)', fontsize=14)"
   ]
  },
  {
   "cell_type": "code",
   "execution_count": 9,
   "id": "d63e9c41",
   "metadata": {},
   "outputs": [
    {
     "name": "stdout",
     "output_type": "stream",
     "text": [
      "-3.7039348302831687\n"
     ]
    }
   ],
   "source": [
    "# Output the intercept of the least squares regression\n",
    "intercept = linModel.intercept_\n",
    "print(intercept[0])"
   ]
  },
  {
   "cell_type": "code",
   "execution_count": 10,
   "id": "7efe6e2d",
   "metadata": {},
   "outputs": [
    {
     "name": "stdout",
     "output_type": "stream",
     "text": [
      "0.4883459157334994\n"
     ]
    }
   ],
   "source": [
    "# Output the slope of the least squares regression\n",
    "slope = linModel.coef_\n",
    "print(slope[0][0])"
   ]
  },
  {
   "cell_type": "code",
   "execution_count": 11,
   "id": "d057a9b6",
   "metadata": {},
   "outputs": [
    {
     "name": "stdout",
     "output_type": "stream",
     "text": [
      "Predicted mean length =  -3.7039348302831687  +  0.4883459157334994 * (latitude)\n"
     ]
    }
   ],
   "source": [
    "# Write the least squares model as an equation\n",
    "print(\"Predicted mean length = \", intercept[0], \" + \", slope[0][0], \"* (latitude)\")"
   ]
  },
  {
   "cell_type": "code",
   "execution_count": 12,
   "id": "4cf2a3f5",
   "metadata": {},
   "outputs": [
    {
     "data": {
      "text/plain": [
       "16.231931026452145"
      ]
     },
     "execution_count": 12,
     "metadata": {},
     "output_type": "execute_result"
    }
   ],
   "source": [
    "# Compute the sum of squared errors for the least squares model\n",
    "SSEreg = sum((y - yPredicted) ** 2)[0]\n",
    "SSEreg"
   ]
  },
  {
   "cell_type": "code",
   "execution_count": 13,
   "id": "b9fd8f3c",
   "metadata": {},
   "outputs": [
    {
     "data": {
      "text/plain": [
       "72.94692307692308"
      ]
     },
     "execution_count": 13,
     "metadata": {},
     "output_type": "execute_result"
    }
   ],
   "source": [
    "# Compute the sum of squared errors for the horizontal line model\n",
    "SSEyBar = sum((y - np.mean(y)) ** 2)[0]\n",
    "SSEyBar"
   ]
  },
  {
   "cell_type": "code",
   "execution_count": 14,
   "id": "8b325081",
   "metadata": {},
   "outputs": [
    {
     "data": {
      "text/plain": [
       "0.7774829925405428"
      ]
     },
     "execution_count": 14,
     "metadata": {},
     "output_type": "execute_result"
    }
   ],
   "source": [
    "# Compute the proportion of variation explained by the linear regression\n",
    "# using the sum of squared errors\n",
    "(SSEyBar - SSEreg) / (SSEyBar)"
   ]
  },
  {
   "cell_type": "code",
   "execution_count": 15,
   "id": "ae2d71d6",
   "metadata": {},
   "outputs": [
    {
     "data": {
      "text/plain": [
       "0.8817499603291902"
      ]
     },
     "execution_count": 15,
     "metadata": {},
     "output_type": "execute_result"
    }
   ],
   "source": [
    "# Compute the correlation coefficient r\n",
    "r = r_regression(X, np.ravel(y))[0]\n",
    "r"
   ]
  },
  {
   "cell_type": "code",
   "execution_count": 16,
   "id": "c4547ed8",
   "metadata": {},
   "outputs": [
    {
     "data": {
      "text/plain": [
       "0.7774829925405284"
      ]
     },
     "execution_count": 16,
     "metadata": {},
     "output_type": "execute_result"
    }
   ],
   "source": [
    "# Compute the proportion of variation explained by the linear regression\n",
    "# using correlation coefficient\n",
    "r**2"
   ]
  },
  {
   "cell_type": "code",
   "execution_count": 17,
   "id": "fb281ad2",
   "metadata": {},
   "outputs": [
    {
     "data": {
      "text/plain": [
       "0.7774829925405428"
      ]
     },
     "execution_count": 17,
     "metadata": {},
     "output_type": "execute_result"
    }
   ],
   "source": [
    "# Compute the proportion of variation explained by the linear regression\n",
    "# using the LinearModel object's score method\n",
    "linModel.score(X, y)"
   ]
  },
  {
   "cell_type": "markdown",
   "id": "f69b191e",
   "metadata": {},
   "source": [
    "## Multiple Linear Regression\n",
    "#se manejan múltiples variables independientes que contribuyen a la variable dependiente\n"
   ]
  },
  {
   "cell_type": "code",
   "execution_count": 2,
   "id": "d9d538f3",
   "metadata": {},
   "outputs": [],
   "source": [
    "# Import packages\n",
    "import matplotlib.pyplot as plt\n",
    "import pandas as pd\n",
    "import numpy as np\n",
    "from sklearn.linear_model import LinearRegression\n",
    "from sklearn.preprocessing import PolynomialFeatures\n",
    "from mpl_toolkits import mplot3d"
   ]
  },
  {
   "cell_type": "markdown",
   "id": "a39ed734",
   "metadata": {},
   "source": [
    "[mpg.csv](https://drive.google.com/file/d/1-jGj5ReRBXNWoeycGyZlyUX2t5TxuiQd/view?usp=sharing)"
   ]
  },
  {
   "cell_type": "code",
   "execution_count": 3,
   "id": "ffe530de",
   "metadata": {},
   "outputs": [
    {
     "data": {
      "text/html": [
       "<div>\n",
       "<style scoped>\n",
       "    .dataframe tbody tr th:only-of-type {\n",
       "        vertical-align: middle;\n",
       "    }\n",
       "\n",
       "    .dataframe tbody tr th {\n",
       "        vertical-align: top;\n",
       "    }\n",
       "\n",
       "    .dataframe thead th {\n",
       "        text-align: right;\n",
       "    }\n",
       "</style>\n",
       "<table border=\"1\" class=\"dataframe\">\n",
       "  <thead>\n",
       "    <tr style=\"text-align: right;\">\n",
       "      <th></th>\n",
       "      <th>mpg</th>\n",
       "      <th>cylinders</th>\n",
       "      <th>displacement</th>\n",
       "      <th>horsepower</th>\n",
       "      <th>weight</th>\n",
       "      <th>acceleration</th>\n",
       "      <th>model_year</th>\n",
       "    </tr>\n",
       "  </thead>\n",
       "  <tbody>\n",
       "    <tr>\n",
       "      <th>count</th>\n",
       "      <td>398.000000</td>\n",
       "      <td>398.000000</td>\n",
       "      <td>398.000000</td>\n",
       "      <td>392.000000</td>\n",
       "      <td>398.000000</td>\n",
       "      <td>398.000000</td>\n",
       "      <td>398.000000</td>\n",
       "    </tr>\n",
       "    <tr>\n",
       "      <th>mean</th>\n",
       "      <td>23.514573</td>\n",
       "      <td>5.454774</td>\n",
       "      <td>193.425879</td>\n",
       "      <td>104.469388</td>\n",
       "      <td>2970.424623</td>\n",
       "      <td>15.568090</td>\n",
       "      <td>76.010050</td>\n",
       "    </tr>\n",
       "    <tr>\n",
       "      <th>std</th>\n",
       "      <td>7.815984</td>\n",
       "      <td>1.701004</td>\n",
       "      <td>104.269838</td>\n",
       "      <td>38.491160</td>\n",
       "      <td>846.841774</td>\n",
       "      <td>2.757689</td>\n",
       "      <td>3.697627</td>\n",
       "    </tr>\n",
       "    <tr>\n",
       "      <th>min</th>\n",
       "      <td>9.000000</td>\n",
       "      <td>3.000000</td>\n",
       "      <td>68.000000</td>\n",
       "      <td>46.000000</td>\n",
       "      <td>1613.000000</td>\n",
       "      <td>8.000000</td>\n",
       "      <td>70.000000</td>\n",
       "    </tr>\n",
       "    <tr>\n",
       "      <th>25%</th>\n",
       "      <td>17.500000</td>\n",
       "      <td>4.000000</td>\n",
       "      <td>104.250000</td>\n",
       "      <td>75.000000</td>\n",
       "      <td>2223.750000</td>\n",
       "      <td>13.825000</td>\n",
       "      <td>73.000000</td>\n",
       "    </tr>\n",
       "    <tr>\n",
       "      <th>50%</th>\n",
       "      <td>23.000000</td>\n",
       "      <td>4.000000</td>\n",
       "      <td>148.500000</td>\n",
       "      <td>93.500000</td>\n",
       "      <td>2803.500000</td>\n",
       "      <td>15.500000</td>\n",
       "      <td>76.000000</td>\n",
       "    </tr>\n",
       "    <tr>\n",
       "      <th>75%</th>\n",
       "      <td>29.000000</td>\n",
       "      <td>8.000000</td>\n",
       "      <td>262.000000</td>\n",
       "      <td>126.000000</td>\n",
       "      <td>3608.000000</td>\n",
       "      <td>17.175000</td>\n",
       "      <td>79.000000</td>\n",
       "    </tr>\n",
       "    <tr>\n",
       "      <th>max</th>\n",
       "      <td>46.600000</td>\n",
       "      <td>8.000000</td>\n",
       "      <td>455.000000</td>\n",
       "      <td>230.000000</td>\n",
       "      <td>5140.000000</td>\n",
       "      <td>24.800000</td>\n",
       "      <td>82.000000</td>\n",
       "    </tr>\n",
       "  </tbody>\n",
       "</table>\n",
       "</div>"
      ],
      "text/plain": [
       "              mpg   cylinders  displacement  horsepower       weight  \\\n",
       "count  398.000000  398.000000    398.000000  392.000000   398.000000   \n",
       "mean    23.514573    5.454774    193.425879  104.469388  2970.424623   \n",
       "std      7.815984    1.701004    104.269838   38.491160   846.841774   \n",
       "min      9.000000    3.000000     68.000000   46.000000  1613.000000   \n",
       "25%     17.500000    4.000000    104.250000   75.000000  2223.750000   \n",
       "50%     23.000000    4.000000    148.500000   93.500000  2803.500000   \n",
       "75%     29.000000    8.000000    262.000000  126.000000  3608.000000   \n",
       "max     46.600000    8.000000    455.000000  230.000000  5140.000000   \n",
       "\n",
       "       acceleration  model_year  \n",
       "count    398.000000  398.000000  \n",
       "mean      15.568090   76.010050  \n",
       "std        2.757689    3.697627  \n",
       "min        8.000000   70.000000  \n",
       "25%       13.825000   73.000000  \n",
       "50%       15.500000   76.000000  \n",
       "75%       17.175000   79.000000  \n",
       "max       24.800000   82.000000  "
      ]
     },
     "execution_count": 3,
     "metadata": {},
     "output_type": "execute_result"
    }
   ],
   "source": [
    "# Load the dataset\n",
    "mpg = pd.read_csv('data/mpg.csv')\n",
    "mpg.describe()"
   ]
  },
  {
   "cell_type": "code",
   "execution_count": 20,
   "id": "410602a5",
   "metadata": {},
   "outputs": [
    {
     "name": "stdout",
     "output_type": "stream",
     "text": [
      "<class 'pandas.core.frame.DataFrame'>\n",
      "RangeIndex: 398 entries, 0 to 397\n",
      "Data columns (total 9 columns):\n",
      " #   Column        Non-Null Count  Dtype  \n",
      "---  ------        --------------  -----  \n",
      " 0   mpg           398 non-null    float64\n",
      " 1   cylinders     398 non-null    int64  \n",
      " 2   displacement  398 non-null    float64\n",
      " 3   horsepower    392 non-null    float64\n",
      " 4   weight        398 non-null    int64  \n",
      " 5   acceleration  398 non-null    float64\n",
      " 6   model_year    398 non-null    int64  \n",
      " 7   origin        398 non-null    object \n",
      " 8   name          398 non-null    object \n",
      "dtypes: float64(4), int64(3), object(2)\n",
      "memory usage: 28.1+ KB\n"
     ]
    }
   ],
   "source": [
    "mpg.info()"
   ]
  },
  {
   "cell_type": "code",
   "execution_count": 44,
   "id": "345dd7c5",
   "metadata": {},
   "outputs": [
    {
     "name": "stdout",
     "output_type": "stream",
     "text": [
      "x: [[  12.  3504. ]\n",
      " [  11.5 3693. ]\n",
      " [  11.  3436. ]\n",
      " [  12.  3433. ]\n",
      " [  10.5 3449. ]\n",
      " [  10.  4341. ]\n",
      " [   9.  4354. ]\n",
      " [   8.5 4312. ]\n",
      " [  10.  4425. ]\n",
      " [   8.5 3850. ]\n",
      " [  10.  3563. ]\n",
      " [   8.  3609. ]\n",
      " [   9.5 3761. ]\n",
      " [  10.  3086. ]\n",
      " [  15.  2372. ]\n",
      " [  15.5 2833. ]\n",
      " [  15.5 2774. ]\n",
      " [  16.  2587. ]\n",
      " [  14.5 2130. ]\n",
      " [  20.5 1835. ]\n",
      " [  17.5 2672. ]\n",
      " [  14.5 2430. ]\n",
      " [  17.5 2375. ]\n",
      " [  12.5 2234. ]\n",
      " [  15.  2648. ]\n",
      " [  14.  4615. ]\n",
      " [  15.  4376. ]\n",
      " [  13.5 4382. ]\n",
      " [  18.5 4732. ]\n",
      " [  14.5 2130. ]\n",
      " [  15.5 2264. ]\n",
      " [  14.  2228. ]\n",
      " [  13.  2634. ]\n",
      " [  15.5 3439. ]\n",
      " [  15.5 3329. ]\n",
      " [  15.5 3302. ]\n",
      " [  15.5 3288. ]\n",
      " [  12.  4209. ]\n",
      " [  11.5 4464. ]\n",
      " [  13.5 4154. ]\n",
      " [  13.  4096. ]\n",
      " [  11.5 4955. ]\n",
      " [  12.  4746. ]\n",
      " [  12.  5140. ]\n",
      " [  13.5 2962. ]\n",
      " [  19.  2408. ]\n",
      " [  15.  3282. ]\n",
      " [  14.5 3139. ]\n",
      " [  14.  2220. ]\n",
      " [  14.  2123. ]\n",
      " [  19.5 2074. ]\n",
      " [  14.5 2065. ]\n",
      " [  19.  1773. ]\n",
      " [  18.  1613. ]\n",
      " [  19.  1834. ]\n",
      " [  20.5 1955. ]\n",
      " [  15.5 2278. ]\n",
      " [  17.  2126. ]\n",
      " [  23.5 2254. ]\n",
      " [  19.5 2408. ]\n",
      " [  16.5 2226. ]\n",
      " [  12.  4274. ]\n",
      " [  12.  4385. ]\n",
      " [  13.5 4135. ]\n",
      " [  13.  4129. ]\n",
      " [  11.5 3672. ]\n",
      " [  11.  4633. ]\n",
      " [  13.5 4502. ]\n",
      " [  13.5 4456. ]\n",
      " [  12.5 4422. ]\n",
      " [  13.5 2330. ]\n",
      " [  12.5 3892. ]\n",
      " [  14.  4098. ]\n",
      " [  16.  4294. ]\n",
      " [  14.  4077. ]\n",
      " [  14.5 2933. ]\n",
      " [  18.  2511. ]\n",
      " [  19.5 2979. ]\n",
      " [  18.  2189. ]\n",
      " [  16.  2395. ]\n",
      " [  17.  2288. ]\n",
      " [  14.5 2506. ]\n",
      " [  15.  2164. ]\n",
      " [  16.5 2100. ]\n",
      " [  13.  4100. ]\n",
      " [  11.5 3672. ]\n",
      " [  13.  3988. ]\n",
      " [  14.5 4042. ]\n",
      " [  12.5 3777. ]\n",
      " [  11.5 4952. ]\n",
      " [  12.  4464. ]\n",
      " [  13.  4363. ]\n",
      " [  14.5 4237. ]\n",
      " [  11.  4735. ]\n",
      " [  11.  4951. ]\n",
      " [  11.  3821. ]\n",
      " [  16.5 3121. ]\n",
      " [  18.  3278. ]\n",
      " [  16.  2945. ]\n",
      " [  16.5 3021. ]\n",
      " [  16.  2904. ]\n",
      " [  21.  1950. ]\n",
      " [  14.  4997. ]\n",
      " [  12.5 4906. ]\n",
      " [  13.  4654. ]\n",
      " [  12.5 4499. ]\n",
      " [  15.  2789. ]\n",
      " [  19.  2279. ]\n",
      " [  19.5 2401. ]\n",
      " [  16.5 2379. ]\n",
      " [  13.5 2124. ]\n",
      " [  18.5 2310. ]\n",
      " [  14.  2472. ]\n",
      " [  15.5 2265. ]\n",
      " [  13.  4082. ]\n",
      " [   9.5 4278. ]\n",
      " [  19.5 1867. ]\n",
      " [  15.5 2158. ]\n",
      " [  14.  2582. ]\n",
      " [  15.5 2868. ]\n",
      " [  11.  3399. ]\n",
      " [  14.  2660. ]\n",
      " [  13.5 2807. ]\n",
      " [  11.  3664. ]\n",
      " [  16.5 3102. ]\n",
      " [  16.  2901. ]\n",
      " [  17.  3336. ]\n",
      " [  19.  1950. ]\n",
      " [  16.5 2451. ]\n",
      " [  21.  1836. ]\n",
      " [  17.  2542. ]\n",
      " [  17.  3781. ]\n",
      " [  18.  3632. ]\n",
      " [  16.5 3613. ]\n",
      " [  14.  4141. ]\n",
      " [  14.5 4699. ]\n",
      " [  13.5 4457. ]\n",
      " [  16.  4638. ]\n",
      " [  15.5 4257. ]\n",
      " [  16.5 2219. ]\n",
      " [  15.5 1963. ]\n",
      " [  14.5 2300. ]\n",
      " [  16.5 1649. ]\n",
      " [  19.  2003. ]\n",
      " [  14.5 2125. ]\n",
      " [  15.5 2108. ]\n",
      " [  14.  2246. ]\n",
      " [  15.  2489. ]\n",
      " [  15.5 2391. ]\n",
      " [  16.  2000. ]\n",
      " [  16.  3264. ]\n",
      " [  16.  3459. ]\n",
      " [  21.  3432. ]\n",
      " [  19.5 3158. ]\n",
      " [  11.5 4668. ]\n",
      " [  14.  4440. ]\n",
      " [  14.5 4498. ]\n",
      " [  13.5 4657. ]\n",
      " [  21.  3907. ]\n",
      " [  18.5 3897. ]\n",
      " [  19.  3730. ]\n",
      " [  19.  3785. ]\n",
      " [  15.  3039. ]\n",
      " [  13.5 3221. ]\n",
      " [  12.  3169. ]\n",
      " [  16.  2171. ]\n",
      " [  17.  2639. ]\n",
      " [  16.  2914. ]\n",
      " [  18.5 2592. ]\n",
      " [  13.5 2702. ]\n",
      " [  16.5 2223. ]\n",
      " [  17.  2545. ]\n",
      " [  14.5 2984. ]\n",
      " [  14.  1937. ]\n",
      " [  17.  3211. ]\n",
      " [  15.  2694. ]\n",
      " [  17.  2957. ]\n",
      " [  14.5 2945. ]\n",
      " [  13.5 2671. ]\n",
      " [  17.5 1795. ]\n",
      " [  15.5 2464. ]\n",
      " [  16.9 2220. ]\n",
      " [  14.9 2572. ]\n",
      " [  17.7 2255. ]\n",
      " [  15.3 2202. ]\n",
      " [  13.  4215. ]\n",
      " [  13.  4190. ]\n",
      " [  13.9 3962. ]\n",
      " [  12.8 4215. ]\n",
      " [  15.4 3233. ]\n",
      " [  14.5 3353. ]\n",
      " [  17.6 3012. ]\n",
      " [  17.6 3085. ]\n",
      " [  22.2 2035. ]\n",
      " [  22.1 2164. ]\n",
      " [  14.2 1937. ]\n",
      " [  17.4 1795. ]\n",
      " [  17.7 3651. ]\n",
      " [  21.  3574. ]\n",
      " [  16.2 3645. ]\n",
      " [  17.8 3193. ]\n",
      " [  12.2 1825. ]\n",
      " [  17.  1990. ]\n",
      " [  16.4 2155. ]\n",
      " [  13.6 2565. ]\n",
      " [  15.7 3150. ]\n",
      " [  13.2 3940. ]\n",
      " [  21.9 3270. ]\n",
      " [  15.5 2930. ]\n",
      " [  16.7 3820. ]\n",
      " [  12.1 4380. ]\n",
      " [  12.  4055. ]\n",
      " [  15.  3870. ]\n",
      " [  14.  3755. ]\n",
      " [  18.5 2045. ]\n",
      " [  14.8 2155. ]\n",
      " [  18.6 1825. ]\n",
      " [  15.5 2300. ]\n",
      " [  16.8 1945. ]\n",
      " [  12.5 3880. ]\n",
      " [  19.  4060. ]\n",
      " [  13.7 4140. ]\n",
      " [  14.9 4295. ]\n",
      " [  16.4 3520. ]\n",
      " [  16.9 3425. ]\n",
      " [  17.7 3630. ]\n",
      " [  19.  3525. ]\n",
      " [  11.1 4220. ]\n",
      " [  11.4 4165. ]\n",
      " [  12.2 4325. ]\n",
      " [  14.5 4335. ]\n",
      " [  14.5 1940. ]\n",
      " [  16.  2740. ]\n",
      " [  18.2 2265. ]\n",
      " [  15.8 2755. ]\n",
      " [  17.  2051. ]\n",
      " [  15.9 2075. ]\n",
      " [  16.4 1985. ]\n",
      " [  14.1 2190. ]\n",
      " [  14.5 2815. ]\n",
      " [  12.8 2600. ]\n",
      " [  13.5 2720. ]\n",
      " [  21.5 1985. ]\n",
      " [  14.4 1800. ]\n",
      " [  19.4 1985. ]\n",
      " [  18.6 2070. ]\n",
      " [  16.4 1800. ]\n",
      " [  15.5 3365. ]\n",
      " [  13.2 3735. ]\n",
      " [  12.8 3570. ]\n",
      " [  19.2 3535. ]\n",
      " [  18.2 3155. ]\n",
      " [  15.8 2965. ]\n",
      " [  15.4 2720. ]\n",
      " [  17.2 3430. ]\n",
      " [  17.2 3210. ]\n",
      " [  15.8 3380. ]\n",
      " [  16.7 3070. ]\n",
      " [  18.7 3620. ]\n",
      " [  15.1 3410. ]\n",
      " [  13.2 3425. ]\n",
      " [  13.4 3445. ]\n",
      " [  11.2 3205. ]\n",
      " [  13.7 4080. ]\n",
      " [  16.5 2155. ]\n",
      " [  14.2 2560. ]\n",
      " [  14.7 2300. ]\n",
      " [  14.5 2230. ]\n",
      " [  14.8 2515. ]\n",
      " [  16.7 2745. ]\n",
      " [  17.6 2855. ]\n",
      " [  14.9 2405. ]\n",
      " [  15.9 2830. ]\n",
      " [  13.6 3140. ]\n",
      " [  15.7 2795. ]\n",
      " [  15.8 3410. ]\n",
      " [  14.9 1990. ]\n",
      " [  16.6 2135. ]\n",
      " [  15.4 3245. ]\n",
      " [  18.2 2990. ]\n",
      " [  17.3 2890. ]\n",
      " [  18.2 3265. ]\n",
      " [  16.6 3360. ]\n",
      " [  15.4 3840. ]\n",
      " [  13.4 3725. ]\n",
      " [  13.2 3955. ]\n",
      " [  15.2 3830. ]\n",
      " [  14.9 4360. ]\n",
      " [  14.3 4054. ]\n",
      " [  15.  3605. ]\n",
      " [  13.  3940. ]\n",
      " [  14.  1925. ]\n",
      " [  15.2 1975. ]\n",
      " [  14.4 1915. ]\n",
      " [  15.  2670. ]\n",
      " [  20.1 3530. ]\n",
      " [  17.4 3900. ]\n",
      " [  24.8 3190. ]\n",
      " [  22.2 3420. ]\n",
      " [  13.2 2200. ]\n",
      " [  14.9 2150. ]\n",
      " [  19.2 2020. ]\n",
      " [  14.7 2130. ]\n",
      " [  16.  2670. ]\n",
      " [  11.3 2595. ]\n",
      " [  12.9 2700. ]\n",
      " [  13.2 2556. ]\n",
      " [  14.7 2144. ]\n",
      " [  18.8 1968. ]\n",
      " [  15.5 2120. ]\n",
      " [  16.4 2019. ]\n",
      " [  16.5 2678. ]\n",
      " [  18.1 2870. ]\n",
      " [  20.1 3003. ]\n",
      " [  18.7 3381. ]\n",
      " [  15.8 2188. ]\n",
      " [  15.5 2711. ]\n",
      " [  17.5 2542. ]\n",
      " [  15.  2434. ]\n",
      " [  15.2 2265. ]\n",
      " [  17.9 2110. ]\n",
      " [  14.4 2800. ]\n",
      " [  19.2 2110. ]\n",
      " [  21.7 2085. ]\n",
      " [  23.7 2335. ]\n",
      " [  19.9 2950. ]\n",
      " [  21.8 3250. ]\n",
      " [  13.8 1850. ]\n",
      " [  18.  2145. ]\n",
      " [  15.3 1845. ]\n",
      " [  11.4 2910. ]\n",
      " [  12.5 2420. ]\n",
      " [  15.1 2500. ]\n",
      " [  17.  2290. ]\n",
      " [  15.7 2490. ]\n",
      " [  16.4 2635. ]\n",
      " [  14.4 2620. ]\n",
      " [  12.6 2725. ]\n",
      " [  12.9 2385. ]\n",
      " [  16.9 1755. ]\n",
      " [  16.4 1875. ]\n",
      " [  16.1 1760. ]\n",
      " [  17.8 2065. ]\n",
      " [  19.4 1975. ]\n",
      " [  17.3 2050. ]\n",
      " [  16.  1985. ]\n",
      " [  14.9 2215. ]\n",
      " [  16.2 2045. ]\n",
      " [  20.7 2380. ]\n",
      " [  14.2 2190. ]\n",
      " [  14.4 2210. ]\n",
      " [  16.8 2350. ]\n",
      " [  14.8 2615. ]\n",
      " [  18.3 2635. ]\n",
      " [  20.4 3230. ]\n",
      " [  19.6 3160. ]\n",
      " [  12.6 2900. ]\n",
      " [  13.8 2930. ]\n",
      " [  15.8 3415. ]\n",
      " [  19.  3725. ]\n",
      " [  17.1 3060. ]\n",
      " [  16.6 3465. ]\n",
      " [  19.6 2605. ]\n",
      " [  18.6 2640. ]\n",
      " [  18.  2395. ]\n",
      " [  16.2 2575. ]\n",
      " [  16.  2525. ]\n",
      " [  18.  2735. ]\n",
      " [  16.4 2865. ]\n",
      " [  15.3 1980. ]\n",
      " [  18.2 2025. ]\n",
      " [  17.6 1970. ]\n",
      " [  14.7 2125. ]\n",
      " [  17.3 2125. ]\n",
      " [  14.5 2160. ]\n",
      " [  14.5 2205. ]\n",
      " [  16.9 2245. ]\n",
      " [  15.  1965. ]\n",
      " [  15.7 1965. ]\n",
      " [  16.2 1995. ]\n",
      " [  16.4 2945. ]\n",
      " [  17.  3015. ]\n",
      " [  14.5 2585. ]\n",
      " [  14.7 2835. ]\n",
      " [  13.9 2665. ]\n",
      " [  13.  2370. ]\n",
      " [  17.3 2950. ]\n",
      " [  15.6 2790. ]\n",
      " [  24.6 2130. ]\n",
      " [  11.6 2295. ]\n",
      " [  18.6 2625. ]\n",
      " [  19.4 2720. ]]\n",
      "y: [[18. ]\n",
      " [15. ]\n",
      " [18. ]\n",
      " [16. ]\n",
      " [17. ]\n",
      " [15. ]\n",
      " [14. ]\n",
      " [14. ]\n",
      " [14. ]\n",
      " [15. ]\n",
      " [15. ]\n",
      " [14. ]\n",
      " [15. ]\n",
      " [14. ]\n",
      " [24. ]\n",
      " [22. ]\n",
      " [18. ]\n",
      " [21. ]\n",
      " [27. ]\n",
      " [26. ]\n",
      " [25. ]\n",
      " [24. ]\n",
      " [25. ]\n",
      " [26. ]\n",
      " [21. ]\n",
      " [10. ]\n",
      " [10. ]\n",
      " [11. ]\n",
      " [ 9. ]\n",
      " [27. ]\n",
      " [28. ]\n",
      " [25. ]\n",
      " [19. ]\n",
      " [16. ]\n",
      " [17. ]\n",
      " [19. ]\n",
      " [18. ]\n",
      " [14. ]\n",
      " [14. ]\n",
      " [14. ]\n",
      " [14. ]\n",
      " [12. ]\n",
      " [13. ]\n",
      " [13. ]\n",
      " [18. ]\n",
      " [22. ]\n",
      " [19. ]\n",
      " [18. ]\n",
      " [23. ]\n",
      " [28. ]\n",
      " [30. ]\n",
      " [30. ]\n",
      " [31. ]\n",
      " [35. ]\n",
      " [27. ]\n",
      " [26. ]\n",
      " [24. ]\n",
      " [25. ]\n",
      " [23. ]\n",
      " [20. ]\n",
      " [21. ]\n",
      " [13. ]\n",
      " [14. ]\n",
      " [15. ]\n",
      " [14. ]\n",
      " [17. ]\n",
      " [11. ]\n",
      " [13. ]\n",
      " [12. ]\n",
      " [13. ]\n",
      " [19. ]\n",
      " [15. ]\n",
      " [13. ]\n",
      " [13. ]\n",
      " [14. ]\n",
      " [18. ]\n",
      " [22. ]\n",
      " [21. ]\n",
      " [26. ]\n",
      " [22. ]\n",
      " [28. ]\n",
      " [23. ]\n",
      " [28. ]\n",
      " [27. ]\n",
      " [13. ]\n",
      " [14. ]\n",
      " [13. ]\n",
      " [14. ]\n",
      " [15. ]\n",
      " [12. ]\n",
      " [13. ]\n",
      " [13. ]\n",
      " [14. ]\n",
      " [13. ]\n",
      " [12. ]\n",
      " [13. ]\n",
      " [18. ]\n",
      " [16. ]\n",
      " [18. ]\n",
      " [18. ]\n",
      " [23. ]\n",
      " [26. ]\n",
      " [11. ]\n",
      " [12. ]\n",
      " [13. ]\n",
      " [12. ]\n",
      " [18. ]\n",
      " [20. ]\n",
      " [21. ]\n",
      " [22. ]\n",
      " [18. ]\n",
      " [19. ]\n",
      " [21. ]\n",
      " [26. ]\n",
      " [15. ]\n",
      " [16. ]\n",
      " [29. ]\n",
      " [24. ]\n",
      " [20. ]\n",
      " [19. ]\n",
      " [15. ]\n",
      " [24. ]\n",
      " [20. ]\n",
      " [11. ]\n",
      " [20. ]\n",
      " [19. ]\n",
      " [15. ]\n",
      " [31. ]\n",
      " [26. ]\n",
      " [32. ]\n",
      " [25. ]\n",
      " [16. ]\n",
      " [16. ]\n",
      " [18. ]\n",
      " [16. ]\n",
      " [13. ]\n",
      " [14. ]\n",
      " [14. ]\n",
      " [14. ]\n",
      " [29. ]\n",
      " [26. ]\n",
      " [26. ]\n",
      " [31. ]\n",
      " [32. ]\n",
      " [28. ]\n",
      " [24. ]\n",
      " [26. ]\n",
      " [24. ]\n",
      " [26. ]\n",
      " [31. ]\n",
      " [19. ]\n",
      " [18. ]\n",
      " [15. ]\n",
      " [15. ]\n",
      " [16. ]\n",
      " [15. ]\n",
      " [16. ]\n",
      " [14. ]\n",
      " [17. ]\n",
      " [16. ]\n",
      " [15. ]\n",
      " [18. ]\n",
      " [21. ]\n",
      " [20. ]\n",
      " [13. ]\n",
      " [29. ]\n",
      " [23. ]\n",
      " [20. ]\n",
      " [23. ]\n",
      " [24. ]\n",
      " [25. ]\n",
      " [24. ]\n",
      " [18. ]\n",
      " [29. ]\n",
      " [19. ]\n",
      " [23. ]\n",
      " [23. ]\n",
      " [22. ]\n",
      " [25. ]\n",
      " [33. ]\n",
      " [28. ]\n",
      " [25. ]\n",
      " [25. ]\n",
      " [26. ]\n",
      " [27. ]\n",
      " [17.5]\n",
      " [16. ]\n",
      " [15.5]\n",
      " [14.5]\n",
      " [22. ]\n",
      " [22. ]\n",
      " [24. ]\n",
      " [22.5]\n",
      " [29. ]\n",
      " [24.5]\n",
      " [29. ]\n",
      " [33. ]\n",
      " [20. ]\n",
      " [18. ]\n",
      " [18.5]\n",
      " [17.5]\n",
      " [29.5]\n",
      " [32. ]\n",
      " [28. ]\n",
      " [26.5]\n",
      " [20. ]\n",
      " [13. ]\n",
      " [19. ]\n",
      " [19. ]\n",
      " [16.5]\n",
      " [16.5]\n",
      " [13. ]\n",
      " [13. ]\n",
      " [13. ]\n",
      " [31.5]\n",
      " [30. ]\n",
      " [36. ]\n",
      " [25.5]\n",
      " [33.5]\n",
      " [17.5]\n",
      " [17. ]\n",
      " [15.5]\n",
      " [15. ]\n",
      " [17.5]\n",
      " [20.5]\n",
      " [19. ]\n",
      " [18.5]\n",
      " [16. ]\n",
      " [15.5]\n",
      " [15.5]\n",
      " [16. ]\n",
      " [29. ]\n",
      " [24.5]\n",
      " [26. ]\n",
      " [25.5]\n",
      " [30.5]\n",
      " [33.5]\n",
      " [30. ]\n",
      " [30.5]\n",
      " [22. ]\n",
      " [21.5]\n",
      " [21.5]\n",
      " [43.1]\n",
      " [36.1]\n",
      " [32.8]\n",
      " [39.4]\n",
      " [36.1]\n",
      " [19.9]\n",
      " [19.4]\n",
      " [20.2]\n",
      " [19.2]\n",
      " [20.5]\n",
      " [20.2]\n",
      " [25.1]\n",
      " [20.5]\n",
      " [19.4]\n",
      " [20.6]\n",
      " [20.8]\n",
      " [18.6]\n",
      " [18.1]\n",
      " [19.2]\n",
      " [17.7]\n",
      " [18.1]\n",
      " [17.5]\n",
      " [30. ]\n",
      " [27.5]\n",
      " [27.2]\n",
      " [30.9]\n",
      " [21.1]\n",
      " [23.2]\n",
      " [23.8]\n",
      " [23.9]\n",
      " [20.3]\n",
      " [17. ]\n",
      " [21.6]\n",
      " [16.2]\n",
      " [31.5]\n",
      " [29.5]\n",
      " [21.5]\n",
      " [19.8]\n",
      " [22.3]\n",
      " [20.2]\n",
      " [20.6]\n",
      " [17. ]\n",
      " [17.6]\n",
      " [16.5]\n",
      " [18.2]\n",
      " [16.9]\n",
      " [15.5]\n",
      " [19.2]\n",
      " [18.5]\n",
      " [31.9]\n",
      " [34.1]\n",
      " [35.7]\n",
      " [27.4]\n",
      " [25.4]\n",
      " [23. ]\n",
      " [27.2]\n",
      " [23.9]\n",
      " [34.2]\n",
      " [34.5]\n",
      " [31.8]\n",
      " [37.3]\n",
      " [28.4]\n",
      " [28.8]\n",
      " [26.8]\n",
      " [33.5]\n",
      " [41.5]\n",
      " [38.1]\n",
      " [32.1]\n",
      " [37.2]\n",
      " [28. ]\n",
      " [26.4]\n",
      " [24.3]\n",
      " [19.1]\n",
      " [34.3]\n",
      " [29.8]\n",
      " [31.3]\n",
      " [37. ]\n",
      " [32.2]\n",
      " [46.6]\n",
      " [27.9]\n",
      " [40.8]\n",
      " [44.3]\n",
      " [43.4]\n",
      " [36.4]\n",
      " [30. ]\n",
      " [44.6]\n",
      " [33.8]\n",
      " [29.8]\n",
      " [32.7]\n",
      " [23.7]\n",
      " [35. ]\n",
      " [32.4]\n",
      " [27.2]\n",
      " [26.6]\n",
      " [25.8]\n",
      " [23.5]\n",
      " [30. ]\n",
      " [39.1]\n",
      " [39. ]\n",
      " [35.1]\n",
      " [32.3]\n",
      " [37. ]\n",
      " [37.7]\n",
      " [34.1]\n",
      " [34.7]\n",
      " [34.4]\n",
      " [29.9]\n",
      " [33. ]\n",
      " [33.7]\n",
      " [32.4]\n",
      " [32.9]\n",
      " [31.6]\n",
      " [28.1]\n",
      " [30.7]\n",
      " [25.4]\n",
      " [24.2]\n",
      " [22.4]\n",
      " [26.6]\n",
      " [20.2]\n",
      " [17.6]\n",
      " [28. ]\n",
      " [27. ]\n",
      " [34. ]\n",
      " [31. ]\n",
      " [29. ]\n",
      " [27. ]\n",
      " [24. ]\n",
      " [36. ]\n",
      " [37. ]\n",
      " [31. ]\n",
      " [38. ]\n",
      " [36. ]\n",
      " [36. ]\n",
      " [36. ]\n",
      " [34. ]\n",
      " [38. ]\n",
      " [32. ]\n",
      " [38. ]\n",
      " [25. ]\n",
      " [38. ]\n",
      " [26. ]\n",
      " [22. ]\n",
      " [32. ]\n",
      " [36. ]\n",
      " [27. ]\n",
      " [27. ]\n",
      " [44. ]\n",
      " [32. ]\n",
      " [28. ]\n",
      " [31. ]]\n"
     ]
    }
   ],
   "source": [
    "# Remove rows that have missing fields\n",
    "mpg = mpg.dropna()\n",
    "\n",
    "# Store relevant columns as variables\n",
    "#reshape it para que sean 2 columns\n",
    "X = mpg[['acceleration', 'weight']].values.reshape(-1, 2)\n",
    "y = mpg[['mpg']].values.reshape(-1, 1)\n",
    "print(\"x:\",X)\n",
    "print(\"y:\",y)"
   ]
  },
  {
   "cell_type": "code",
   "execution_count": 22,
   "id": "fc281b24",
   "metadata": {},
   "outputs": [
    {
     "data": {
      "text/plain": [
       "Text(0, 0.5, 'MPG')"
      ]
     },
     "execution_count": 22,
     "metadata": {},
     "output_type": "execute_result"
    },
    {
     "data": {
      "image/png": "[encoded data removed]",
      "text/plain": [
       "<Figure size 640x480 with 1 Axes>"
      ]
     },
     "metadata": {},
     "output_type": "display_data"
    }
   ],
   "source": [
    "# Graph acceleration vs MPG\n",
    "plt.scatter(X[:, 0], y, color='black')\n",
    "plt.xlabel('Acceleration', fontsize=14)\n",
    "plt.ylabel('MPG', fontsize=14)"
   ]
  },
  {
   "cell_type": "code",
   "execution_count": 23,
   "id": "201e7888",
   "metadata": {},
   "outputs": [
    {
     "data": {
      "text/plain": [
       "Text(0, 0.5, 'MPG')"
      ]
     },
     "execution_count": 23,
     "metadata": {},
     "output_type": "execute_result"
    },
    {
     "data": {
      "image/png": "[encoded data removed]",
      "text/plain": [
       "<Figure size 640x480 with 1 Axes>"
      ]
     },
     "metadata": {},
     "output_type": "display_data"
    }
   ],
   "source": [
    "# Graph weight vs MPG\n",
    "plt.scatter(X[:, 1], y, color='black')\n",
    "plt.xlabel('Weight', fontsize=14)\n",
    "plt.ylabel('MPG', fontsize=14)"
   ]
  },
  {
   "cell_type": "code",
   "execution_count": 24,
   "id": "c5f35a88",
   "metadata": {},
   "outputs": [
    {
     "name": "stdout",
     "output_type": "stream",
     "text": [
      "Predicted MPG =  41.09532877960422  +  0.2616503964887878 * (Acceleration)  +  -0.0072930951138257104 * (Weight)\n"
     ]
    }
   ],
   "source": [
    "# Fit a least squares multiple linear regression model\n",
    "linModel = LinearRegression()\n",
    "linModel.fit(X, y)\n",
    "\n",
    "# Write the least squares model as an equation\n",
    "print(\n",
    "    #intercept\n",
    "    \"Predicted MPG = \",\n",
    "    linModel.intercept_[0],\n",
    "    \" + \",\n",
    "    #coefficnet of acceleration\n",
    "    linModel.coef_[0][0],\n",
    "    \"* (Acceleration)\",\n",
    "    \" + \",\n",
    "    #coefficient of weight\n",
    "    linModel.coef_[0][1],\n",
    "    \"* (Weight)\",\n",
    ")"
   ]
  },
  {
   "cell_type": "code",
   "execution_count": 25,
   "id": "8785c2e5",
   "metadata": {},
   "outputs": [
    {
     "data": {
      "text/plain": [
       "(28.0, 9.0)"
      ]
     },
     "execution_count": 25,
     "metadata": {},
     "output_type": "execute_result"
    },
    {
     "data": {
      "image/png": "[encoded data removed]",
      "text/plain": [
       "<Figure size 640x480 with 1 Axes>"
      ]
     },
     "metadata": {},
     "output_type": "display_data"
    }
   ],
   "source": [
    "# Set up the figure\n",
    "fig = plt.figure()\n",
    "ax = plt.axes(projection='3d')\n",
    "# Plot the points\n",
    "ax.scatter3D(X[:, 0], X[:, 1], y, color=\"Black\")\n",
    "# Plot the regression as a plane\n",
    "xDeltaAccel, xDeltaWeight = np.meshgrid(\n",
    "    np.linspace(X[:, 0].min(), X[:, 0].max(), 2),\n",
    "    np.linspace(X[:, 1].min(), X[:, 1].max(), 2),\n",
    ")\n",
    "yDeltaMPG = (\n",
    "    linModel.intercept_[0]\n",
    "    + linModel.coef_[0][0] * xDeltaAccel\n",
    "    + linModel.coef_[0][1] * xDeltaWeight\n",
    ")\n",
    "ax.plot_surface(xDeltaAccel, xDeltaWeight, yDeltaMPG, alpha=0.5)\n",
    "# Axes labels\n",
    "ax.set_xlabel('Acceleration')\n",
    "ax.set_ylabel('Weight')\n",
    "ax.set_zlabel('MPG')\n",
    "# Set the view angle\n",
    "ax.view_init(30, 50)\n",
    "ax.set_xlim(28, 9)"
   ]
  },
  {
   "cell_type": "code",
   "execution_count": 26,
   "id": "7959bcf6",
   "metadata": {},
   "outputs": [
    {
     "data": {
      "text/plain": [
       "0.699697930474305"
      ]
     },
     "execution_count": 26,
     "metadata": {},
     "output_type": "execute_result"
    }
   ],
   "source": [
    "# Compute the proportion of variation explained by the linear regression\n",
    "# using the LinearModel object's score method\n",
    "linModel.score(X,y)"
   ]
  },
  {
   "cell_type": "code",
   "execution_count": 1,
   "id": "1fd63813",
   "metadata": {},
   "outputs": [
    {
     "ename": "NameError",
     "evalue": "name 'linModel' is not defined",
     "output_type": "error",
     "traceback": [
      "\u001b[0;31m---------------------------------------------------------------------------\u001b[0m",
      "\u001b[0;31mNameError\u001b[0m                                 Traceback (most recent call last)",
      "Cell \u001b[0;32mIn[1], line 2\u001b[0m\n\u001b[1;32m      1\u001b[0m \u001b[38;5;66;03m# Make a prediction\u001b[39;00m\n\u001b[0;32m----> 2\u001b[0m yMultyPredicted \u001b[38;5;241m=\u001b[39m \u001b[43mlinModel\u001b[49m\u001b[38;5;241m.\u001b[39mpredict([[\u001b[38;5;241m20\u001b[39m, \u001b[38;5;241m1\u001b[39m]])\n\u001b[1;32m      3\u001b[0m \u001b[38;5;28mprint\u001b[39m(\n\u001b[1;32m      4\u001b[0m     \u001b[38;5;124m\"\u001b[39m\u001b[38;5;124mPredicted MPG for a car with acceleration = 20 seconds and Weight = 3000 pounds \u001b[39m\u001b[38;5;130;01m\\n\u001b[39;00m\u001b[38;5;124m\"\u001b[39m,\n\u001b[1;32m      5\u001b[0m     \u001b[38;5;124m\"\u001b[39m\u001b[38;5;124musing the multiple linear regression is \u001b[39m\u001b[38;5;124m\"\u001b[39m,\n\u001b[1;32m      6\u001b[0m     yMultyPredicted[\u001b[38;5;241m0\u001b[39m][\u001b[38;5;241m0\u001b[39m],\n\u001b[1;32m      7\u001b[0m     \u001b[38;5;124m\"\u001b[39m\u001b[38;5;124mmiles per gallon\u001b[39m\u001b[38;5;124m\"\u001b[39m,\n\u001b[1;32m      8\u001b[0m )\n",
      "\u001b[0;31mNameError\u001b[0m: name 'linModel' is not defined"
     ]
    }
   ],
   "source": [
    "# Make a prediction\n",
    "yMultyPredicted = linModel.predict([[20, 1]])\n",
    "print(\n",
    "    \"Predicted MPG for a car with acceleration = 20 seconds and Weight = 3000 pounds \\n\",\n",
    "    \"using the multiple linear regression is \",\n",
    "    yMultyPredicted[0][0],\n",
    "    \"miles per gallon\",\n",
    ")"
   ]
  },
  {
   "cell_type": "markdown",
   "id": "ae11145b",
   "metadata": {},
   "source": [
    "## Polynomial Regression\n",
    "\n",
    "In polynomial regression, the relationship between the dependent variable and the independent variable is modeled as an nth-degree polynomial function. When the polynomial is of degree 2, it is called a quadratic model; when the degree of a polynomial is 3, it is called a cubic model, and so on.\n",
    "\n",
    "A polynomial regression can be considered using multiple input features. A **polynomial regression** is a mathematical model of input features that includes all powers and interaction terms of the input features up to a fixed degree. An **interaction term** is a term in a regression model that contains multiple input features, such as $ \\mathbf{(x_1^3x_2)} $. Interaction terms are included to reflect how the prediction changes in non-additive ways as the features vary. The degree of an interaction term is the sum of the powers on the term. Ex: $ \\mathbf{(x_1^3x_2)} $ is a degree 4 interaction term. Interactive terms can account for dependency between input features.\n",
    "\n",
    "The general equation of a multiple polynomial equation is cumbersome to write but can be easily displayed for a small degree. Ex: A degree 2 (quadratic) polynomial regression on two input features has the form $ \\mathbf{\\hat{y}\\ =\\ b_0\\ +\\ b_1x_1\\ +\\ b_2x_2\\ +\\ b_3x_1^2\\ +\\ b_4x_1x_2\\ +\\ b_5x_2^2} $.\n",
    "\n",
    "Like simple polynomial regression, the function used for the regression is not linear, but the regression is said to be linear with respect to the powers and interaction terms.\n",
    "Suppose we have a dataset where variable X represents the Independent data and Y is the dependent data. Before feeding data to a model in the preprocessing stage, we convert the input variables into polynomial terms using some degree.\n",
    "\n",
    "Consider an example my input value is 35, and the degree of a polynomial is 2, so I will find 35 power 0, 35 power 1, and 35 power 2 this helps to interpret the non-linear relationship in data.\n",
    "The equation of polynomials becomes something like this.\n",
    "\n",
    "![image.png](data:image/png;base64,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)\n",
    "\n",
    "The degree of order to use is a Hyperparameter, and we need to choose it wisely. Using a high degree of polynomial tries to overfit the data. For smaller values of degree, the model tries to underfit, so we need to find the optimum value of a degree. Polynomial Regression models are usually fitted with the method of least squares.\n",
    "\n",
    "Source: [analyticsvidhya.com](https://www.analyticsvidhya.com/blog/2021/07/all-you-need-to-know-about-polynomial-regression/#:~:text=A%20polynomial%20regression%20model%20is,the%20complexity%20of%20the%20relationship.)"
   ]
  },
  {
   "cell_type": "code",
   "execution_count": 28,
   "id": "c47595b3",
   "metadata": {},
   "outputs": [
    {
     "name": "stdout",
     "output_type": "stream",
     "text": [
      "Predicted MPG =  62.25547397329207  +  -0.018495610572078953 * (Weight)  +  1.6965650653725291e-06 * (Weight)^2\n"
     ]
    },
    {
     "data": {
      "image/png": "[encoded data removed]",
      "text/plain": [
       "<Figure size 640x480 with 1 Axes>"
      ]
     },
     "metadata": {},
     "output_type": "display_data"
    }
   ],
   "source": [
    "# Store weight as an array\n",
    "#x2 all the rows butj just column 1, not 0\n",
    "X2 = X[:, 1].reshape(-1, 1)\n",
    "\n",
    "# Fit a quadratic regression model using just Weight\n",
    "#features of degree 2\n",
    "polyFeatures = PolynomialFeatures(degree=2, include_bias=False)\n",
    "xPoly = polyFeatures.fit_transform(X2)\n",
    "polyModel = LinearRegression()\n",
    "polyModel.fit(xPoly, y)\n",
    "\n",
    "# Graph the quadratic regression\n",
    "plt.scatter(X2, y, color='black')\n",
    "xDelta = np.linspace(X2.min(), X2.max(), 1000)\n",
    "yDelta = polyModel.predict(polyFeatures.fit_transform(xDelta.reshape(-1, 1)))\n",
    "plt.plot(xDelta, yDelta, color='blue', linewidth=2)\n",
    "plt.xlabel('Weight', fontsize=14)\n",
    "plt.ylabel('MPG', fontsize=14)\n",
    "\n",
    "# Write the quadratic model as an equation\n",
    "print(\n",
    "    \"Predicted MPG = \",\n",
    "    polyModel.intercept_[0],\n",
    "    \" + \",\n",
    "    polyModel.coef_[0][0],\n",
    "    \"* (Weight)\",\n",
    "    \" + \",\n",
    "    polyModel.coef_[0][1],\n",
    "    \"* (Weight)^2\",\n",
    ")"
   ]
  },
  {
   "cell_type": "code",
   "execution_count": 29,
   "id": "0f8e8f6f",
   "metadata": {},
   "outputs": [
    {
     "name": "stdout",
     "output_type": "stream",
     "text": [
      "Predicted MPG for a car with Weight = 3000 pounds \n",
      " using the simple polynomial regression is  22.03772784540797 miles per gallon\n"
     ]
    }
   ],
   "source": [
    "# Make a prediction\n",
    "polyInputs = polyFeatures.fit_transform([[3000]])\n",
    "yPolyPredicted = polyModel.predict(polyInputs)\n",
    "print(\n",
    "    \"Predicted MPG for a car with Weight = 3000 pounds \\n\",\n",
    "    \"using the simple polynomial regression is \", yPolyPredicted[0][0], \"miles per gallon\",\n",
    ")"
   ]
  },
  {
   "cell_type": "code",
   "execution_count": 30,
   "id": "c7de0e93",
   "metadata": {},
   "outputs": [
    {
     "name": "stdout",
     "output_type": "stream",
     "text": [
      "Predicted MPG = 78.31768655372295 \n",
      "  +  -1.6282643136374915 * (Acceleration)\n",
      "  +  -0.022634642648925993 * (Weight) \n",
      "  +  0.045613892468764294 * (Acceleration)^2 \n",
      "  +  0.00015544962680995964 * (Acceleration)*(Weight) \n",
      "  +  2.0264199567111614e-06 * (Weight)^2 \n",
      "\n"
     ]
    }
   ],
   "source": [
    "# Fit a quadratic regression model using acceleration and weight\n",
    "polyFeatures2 = PolynomialFeatures(degree=2, include_bias=False)\n",
    "xPoly2 = polyFeatures.fit_transform(X)\n",
    "polyModel2 = LinearRegression()\n",
    "polyModel2.fit(xPoly2, y)\n",
    "\n",
    "# Write the quadratic regression as an equation\n",
    "print(\n",
    "    \"Predicted MPG =\", polyModel2.intercept_[0], \"\\n\",\n",
    "    \" + \", polyModel2.coef_[0][0], \"* (Acceleration)\\n\",\n",
    "    \" + \", polyModel2.coef_[0][1], \"* (Weight)\", \"\\n\",\n",
    "    \" + \", polyModel2.coef_[0][2], \"* (Acceleration)^2 \\n\",\n",
    "    \" + \", polyModel2.coef_[0][3], \"* (Acceleration)*(Weight) \\n\",\n",
    "    \" + \", polyModel2.coef_[0][4], \"* (Weight)^2 \\n\",\n",
    ")"
   ]
  },
  {
   "cell_type": "code",
   "execution_count": 31,
   "id": "55b18ef9",
   "metadata": {},
   "outputs": [
    {
     "name": "stdout",
     "output_type": "stream",
     "text": [
      "Predicted MPG for a car with acceleration = 20 seconds and Weight = 3000 pounds \n",
      " using the polynomial regression is  23.658786540698884 miles per gallon\n"
     ]
    }
   ],
   "source": [
    "# Make a prediction\n",
    "polyInputs2 = polyFeatures2.fit_transform([[20, 3000]])\n",
    "yPolyPredicted2 = polyModel2.predict(polyInputs2)\n",
    "print(\n",
    "    \"Predicted MPG for a car with acceleration = 20 seconds and Weight = 3000 pounds \\n\",\n",
    "    \"using the polynomial regression is \", yPolyPredicted2[0][0], \"miles per gallon\",\n",
    ")"
   ]
  },
  {
   "cell_type": "code",
   "execution_count": 32,
   "id": "de111b9b",
   "metadata": {},
   "outputs": [
    {
     "data": {
      "text/plain": [
       "0.7286472621668061"
      ]
     },
     "execution_count": 32,
     "metadata": {},
     "output_type": "execute_result"
    }
   ],
   "source": [
    "# Compute the proportion of variation explained by the linear regression\n",
    "# using the LinearRegression object's score method\n",
    "polyModel2.score(xPoly2,y)"
   ]
  },
  {
   "cell_type": "code",
   "execution_count": 33,
   "id": "2900074e",
   "metadata": {},
   "outputs": [],
   "source": [
    "np.random.seed(42)\n",
    "m = 100\n",
    "X = 6 * np.random.rand(m, 1) - 3\n",
    "y = 0.5 * X**2 + X + 2 + np.random.randn(m, 1)"
   ]
  },
  {
   "cell_type": "code",
   "execution_count": 34,
   "id": "f2e760c4",
   "metadata": {},
   "outputs": [
    {
     "data": {
      "text/plain": [
       "array([[-7.52759287e-01,  5.66646544e-01],\n",
       "       [ 2.70428584e+00,  7.31316190e+00],\n",
       "       [ 1.39196365e+00,  1.93756281e+00],\n",
       "       [ 5.91950905e-01,  3.50405874e-01],\n",
       "       [-2.06388816e+00,  4.25963433e+00],\n",
       "       [-2.06403288e+00,  4.26023172e+00],\n",
       "       [-2.65149833e+00,  7.03044338e+00],\n",
       "       [ 2.19705687e+00,  4.82705891e+00],\n",
       "       [ 6.06690070e-01,  3.68072842e-01],\n",
       "       [ 1.24843547e+00,  1.55859111e+00],\n",
       "       [-2.87649303e+00,  8.27421218e+00],\n",
       "       [ 2.81945911e+00,  7.94934969e+00],\n",
       "       [ 1.99465584e+00,  3.97865194e+00],\n",
       "       [-1.72596534e+00,  2.97895634e+00],\n",
       "       [-1.90905020e+00,  3.64447265e+00],\n",
       "       [-1.89957294e+00,  3.60837736e+00],\n",
       "       [-1.17454654e+00,  1.37955958e+00],\n",
       "       [ 1.48538590e-01,  2.20637127e-02],\n",
       "       [-4.08329888e-01,  1.66733298e-01],\n",
       "       [-1.25262516e+00,  1.56906979e+00],\n",
       "       [ 6.71117368e-01,  4.50398522e-01],\n",
       "       [-2.16303684e+00,  4.67872835e+00],\n",
       "       [-1.24713211e+00,  1.55533850e+00],\n",
       "       [-8.01828940e-01,  6.42929649e-01],\n",
       "       [-2.63580095e-01,  6.94744663e-02],\n",
       "       [ 1.71105577e+00,  2.92771184e+00],\n",
       "       [-1.80195731e+00,  3.24705014e+00],\n",
       "       [ 8.54066305e-02,  7.29429253e-03],\n",
       "       [ 5.54487413e-01,  3.07456291e-01],\n",
       "       [-2.72129752e+00,  7.40546021e+00],\n",
       "       [ 6.45269111e-01,  4.16372226e-01],\n",
       "       [-1.97685526e+00,  3.90795671e+00],\n",
       "       [-2.60969044e+00,  6.81048420e+00],\n",
       "       [ 2.69331322e+00,  7.25393612e+00],\n",
       "       [ 2.79379220e+00,  7.80527485e+00],\n",
       "       [ 1.85038409e+00,  3.42392128e+00],\n",
       "       [-1.17231738e+00,  1.37432805e+00],\n",
       "       [-2.41396732e+00,  5.82723820e+00],\n",
       "       [ 1.10539816e+00,  1.22190509e+00],\n",
       "       [-3.59085038e-01,  1.28942064e-01],\n",
       "       [-2.26777059e+00,  5.14278345e+00],\n",
       "       [-2.89385393e-02,  8.37439059e-04],\n",
       "       [-2.79366887e+00,  7.80458577e+00],\n",
       "       [ 2.45592241e+00,  6.03155490e+00],\n",
       "       [-1.44732011e+00,  2.09473550e+00],\n",
       "       [ 9.75133706e-01,  9.50885745e-01],\n",
       "       [-1.12973354e+00,  1.27629788e+00],\n",
       "       [ 1.20408127e-01,  1.44981171e-02],\n",
       "       [ 2.80261676e-01,  7.85466071e-02],\n",
       "       [-1.89087327e+00,  3.57540171e+00],\n",
       "       [ 2.81750777e+00,  7.93835001e+00],\n",
       "       [ 1.65079694e+00,  2.72513054e+00],\n",
       "       [ 2.63699365e+00,  6.95373551e+00],\n",
       "       [ 2.36896410e+00,  5.61199092e+00],\n",
       "       [ 5.87399873e-01,  3.45038611e-01],\n",
       "       [ 2.53124541e+00,  6.40720333e+00],\n",
       "       [-2.46904499e+00,  6.09618315e+00],\n",
       "       [-1.82410283e+00,  3.32735112e+00],\n",
       "       [-2.72863627e+00,  7.44545588e+00],\n",
       "       [-1.04801802e+00,  1.09834176e+00],\n",
       "       [-6.67936262e-01,  4.46138850e-01],\n",
       "       [-1.37190581e+00,  1.88212555e+00],\n",
       "       [ 1.97242505e+00,  3.89046060e+00],\n",
       "       [-8.59480040e-01,  7.38705939e-01],\n",
       "       [-1.31439294e+00,  1.72762881e+00],\n",
       "       [ 2.56176499e-01,  6.56263986e-02],\n",
       "       [-2.15445465e+00,  4.64167484e+00],\n",
       "       [ 1.81318188e+00,  3.28762855e+00],\n",
       "       [-2.55269614e+00,  6.51625757e+00],\n",
       "       [ 2.92132162e+00,  8.53412001e+00],\n",
       "       [ 1.63346862e+00,  2.66821972e+00],\n",
       "       [-1.80770591e+00,  3.26780066e+00],\n",
       "       [-2.96686730e+00,  8.80230156e+00],\n",
       "       [ 1.89276857e+00,  3.58257286e+00],\n",
       "       [ 1.24114406e+00,  1.54043859e+00],\n",
       "       [ 1.37404301e+00,  1.88799419e+00],\n",
       "       [ 1.62762208e+00,  2.64915364e+00],\n",
       "       [-2.55573209e+00,  6.53176651e+00],\n",
       "       [-8.49205629e-01,  7.21150200e-01],\n",
       "       [-2.30478564e+00,  5.31203686e+00],\n",
       "       [ 2.17862056e+00,  4.74638752e+00],\n",
       "       [ 7.39788761e-01,  5.47287411e-01],\n",
       "       [-1.01461185e+00,  1.02943721e+00],\n",
       "       [-2.61864990e+00,  6.85732729e+00],\n",
       "       [-1.13410607e+00,  1.28619658e+00],\n",
       "       [-1.04890007e+00,  1.10019135e+00],\n",
       "       [ 1.37763707e+00,  1.89788390e+00],\n",
       "       [ 8.25344828e-01,  6.81194085e-01],\n",
       "       [ 2.32327646e+00,  5.39761349e+00],\n",
       "       [-1.66710449e-01,  2.77923738e-02],\n",
       "       [-2.28243452e+00,  5.20950736e+00],\n",
       "       [ 1.27946872e+00,  1.63704021e+00],\n",
       "       [ 1.56471029e+00,  2.44831830e+00],\n",
       "       [ 3.67663185e-01,  1.35176218e-01],\n",
       "       [ 1.62580308e+00,  2.64323565e+00],\n",
       "       [-3.72264218e-02,  1.38580648e-03],\n",
       "       [ 1.36396976e-01,  1.86041351e-02],\n",
       "       [-4.34753890e-01,  1.89010945e-01],\n",
       "       [-2.84748524e+00,  8.10817219e+00],\n",
       "       [-2.35265144e+00,  5.53496879e+00]])"
      ]
     },
     "execution_count": 34,
     "metadata": {},
     "output_type": "execute_result"
    }
   ],
   "source": [
    "from sklearn.preprocessing import PolynomialFeatures\n",
    "poly_features = PolynomialFeatures(degree=2, include_bias=False)\n",
    "X_poly = poly_features.fit_transform(X)\n",
    "# X_poly now contains the original feature of X plus the square of this feature. Now you can fit a LinearRegression model to this extended training data\n",
    "X_poly"
   ]
  },
  {
   "cell_type": "code",
   "execution_count": 35,
   "id": "401b54e7",
   "metadata": {},
   "outputs": [
    {
     "data": {
      "image/png": "[encoded data removed]",
      "text/plain": [
       "<Figure size 640x480 with 1 Axes>"
      ]
     },
     "metadata": {},
     "output_type": "display_data"
    }
   ],
   "source": [
    "plt.plot(X, y, \"b.\")\n",
    "plt.xlabel(\"$x$\", fontsize=18)\n",
    "plt.ylabel(\"$y$\", rotation=0, fontsize=18)\n",
    "plt.axis([-3, 3, 0, 10])\n",
    "plt.show()"
   ]
  },
  {
   "cell_type": "code",
   "execution_count": 36,
   "id": "5bf12a81",
   "metadata": {},
   "outputs": [
    {
     "data": {
      "text/plain": [
       "(array([1.78134581]), array([[0.93366893, 0.56456263]]))"
      ]
     },
     "execution_count": 36,
     "metadata": {},
     "output_type": "execute_result"
    }
   ],
   "source": [
    "from sklearn.linear_model import LinearRegression\n",
    "lr = LinearRegression()\n",
    "lr.fit(X_poly, y)\n",
    "lr.intercept_, lr.coef_"
   ]
  },
  {
   "cell_type": "code",
   "execution_count": 37,
   "id": "b6d0dd61",
   "metadata": {},
   "outputs": [
    {
     "data": {
      "image/png": "[encoded data removed]",
      "text/plain": [
       "<Figure size 640x480 with 1 Axes>"
      ]
     },
     "metadata": {},
     "output_type": "display_data"
    }
   ],
   "source": [
    "X_new=np.linspace(-3, 3, 100).reshape(100, 1)\n",
    "X_new_poly = poly_features.transform(X_new)\n",
    "y_new = lr.predict(X_new_poly)\n",
    "plt.plot(X, y, \"b.\")\n",
    "plt.plot(X_new, y_new, \"r-\", linewidth=2, label=\"Predictions\")\n",
    "plt.xlabel(\"$x_1$\", fontsize=18)\n",
    "plt.ylabel(\"$y$\", rotation=0, fontsize=18)\n",
    "plt.legend(loc=\"upper left\", fontsize=14)\n",
    "plt.axis([-3, 3, 0, 10])\n",
    "plt.show()"
   ]
  },
  {
   "cell_type": "code",
   "execution_count": 38,
   "id": "bda7be76",
   "metadata": {},
   "outputs": [
    {
     "data": {
      "image/png": "[encoded data removed]",
      "text/plain": [
       "<Figure size 640x480 with 1 Axes>"
      ]
     },
     "metadata": {},
     "output_type": "display_data"
    }
   ],
   "source": [
    "from sklearn.preprocessing import StandardScaler\n",
    "from sklearn.pipeline import Pipeline\n",
    "\n",
    "for style, width, degree in ((\"g-\", 1, 10), (\"b--\", 2, 2), (\"r-+\", 2, 1)):\n",
    "    polybig_features = PolynomialFeatures(degree=degree, include_bias=False)\n",
    "    std_scaler = StandardScaler()\n",
    "    lin_reg = LinearRegression()\n",
    "    #Pipeline\n",
    "    polynomial_regression = Pipeline([(\"poly_features\", polybig_features),(\"std_scaler\", std_scaler),(\"lin_reg\", lin_reg),])\n",
    "    polynomial_regression.fit(X, y)\n",
    "    y_newbig = polynomial_regression.predict(X_new)\n",
    "    plt.plot(X_new, y_newbig, style, label=str(degree), linewidth=width)\n",
    "\n",
    "plt.plot(X, y, \"b.\", linewidth=3)\n",
    "plt.legend(loc=\"upper left\")\n",
    "plt.xlabel(\"$x_1$\", fontsize=18)\n",
    "plt.ylabel(\"$y$\", rotation=0, fontsize=18)\n",
    "plt.axis([-3, 3, 0, 10])\n",
    "plt.show()\n"
   ]
  },
  {
   "cell_type": "code",
   "execution_count": null,
   "id": "1006e6a3",
   "metadata": {},
   "outputs": [],
   "source": []
  }
 ],
 "metadata": {
  "kernelspec": {
   "display_name": "Python 3 (ipykernel)",
   "language": "python",
   "name": "python3"
  },
  "language_info": {
   "codemirror_mode": {
    "name": "ipython",
    "version": 3
   },
   "file_extension": ".py",
   "mimetype": "text/x-python",
   "name": "python",
   "nbconvert_exporter": "python",
   "pygments_lexer": "ipython3",
   "version": "3.9.19"
  }
 },
 "nbformat": 4,
 "nbformat_minor": 5
}
